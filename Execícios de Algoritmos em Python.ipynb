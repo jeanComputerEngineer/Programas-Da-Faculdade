{
  "nbformat": 4,
  "nbformat_minor": 0,
  "metadata": {
    "colab": {
      "provenance": [],
      "authorship_tag": "ABX9TyMqkiRCrO7UAtOGnAhaoE8L",
      "include_colab_link": true
    },
    "kernelspec": {
      "name": "python3",
      "display_name": "Python 3"
    },
    "language_info": {
      "name": "python"
    }
  },
  "cells": [
    {
      "cell_type": "markdown",
      "metadata": {
        "id": "view-in-github",
        "colab_type": "text"
      },
      "source": [
        "<a href=\"https://colab.research.google.com/github/jeanComputerEngineer/PrimeirosExerciciosAlgoritmos/blob/main/Exec%C3%ADcios%20de%20Algoritmos%20em%20Python.ipynb\" target=\"_parent\"><img src=\"https://colab.research.google.com/assets/colab-badge.svg\" alt=\"Open In Colab\"/></a>"
      ]
    },
    {
      "cell_type": "code",
      "metadata": {
        "id": "d8n4k0EDdHQN",
        "colab": {
          "base_uri": "https://localhost:8080/"
        },
        "outputId": "0df3de1e-905d-481e-cc39-a5f6ff70a676"
      },
      "source": [
        "#Exercício 1 - Lista \"Exercícios 2021\"\n",
        "\n",
        "print(\"Qual é a largura do terreno?\")\n",
        "largura =  float (input())\n",
        "print(\"Qual é o comprimento do terreno\")\n",
        "comprimento = float (input())\n",
        "area = largura * comprimento\n",
        "print(\"A área dele é igual a: \", area, \"metros quadrados\")\n"
      ],
      "execution_count": null,
      "outputs": [
        {
          "output_type": "stream",
          "text": [
            "Qual é a largura do terreno?\n",
            "20.4\n",
            "Qual é o comprimento do terreno\n",
            "23.3\n",
            "A área dele é igual a:  475.32 metros quadrados\n"
          ],
          "name": "stdout"
        }
      ]
    },
    {
      "cell_type": "code",
      "metadata": {
        "id": "O7TGc-Phmogo"
      },
      "source": [
        "#Exercício 2 - lista \"Exercícios 2021\"\n",
        "\n",
        "\n",
        "print(\"Quantos cavalos foram comprados?\")\n",
        "quantidade = float(input())\n",
        "ferraduras = quantidade * 4\n",
        "print(\"Será necessária a compra de\", ferraduras, 'ferraduras')\n"
      ],
      "execution_count": null,
      "outputs": []
    },
    {
      "cell_type": "code",
      "metadata": {
        "id": "LT21poO9nYZf"
      },
      "source": [
        "#Exercício 3 - lista \"Exercícios 2021\"\n",
        "\n",
        "\n",
        "print(\"Quantos pães franceses foram vendidos hoje?\")\n",
        "pf = int(input())\n",
        "print(\"Quantas broas foram vendidas hoje?\")\n",
        "broas = int(input())\n",
        "\n",
        "taxaBroas = broas * 0.15\n",
        "taxaPF = pf * 0.12\n",
        "totalArrecadado = taxaPF + taxaBroas\n",
        "poupança = (totalArrecadado * 12) / 100\n",
        "\n",
        "print(\"O equivale a 12% destinado a poupança é de:\", poupança,\" reais\")\n"
      ],
      "execution_count": null,
      "outputs": []
    },
    {
      "cell_type": "code",
      "metadata": {
        "id": "BOnHagzGqCov"
      },
      "source": [
        "#Exercício 4 - lista \"Exercícios 2021\"\n",
        "\n",
        "print(\"Qual é a sua idade?\")\n",
        "idade = float(input())\n",
        "print('Qual o seu nome?')\n",
        "nome = input()\n",
        "\n",
        "dias = idade * 365\n",
        "\n",
        "print(\"Olá\", nome,\"Voce possui\", dias, \"dias de vida\")\n"
      ],
      "execution_count": null,
      "outputs": []
    },
    {
      "cell_type": "code",
      "metadata": {
        "id": "FhUAmGJfsEb3"
      },
      "source": [
        "#Exercício 5 - lista \"Exercícios 2021\"\n",
        "\n",
        "print(\"QUal o preço da gasolina por litro?\")\n",
        "preço = float(input())\n",
        "print(\"Quanto pagará pela gasolina?\")\n",
        "total = float(input())\n",
        "\n",
        "quantidade = (total // preço)\n",
        "round(quantidade, 1)\n",
        "print(\"Voce conseguira colocar\", quantidade,\"litros de gasolina\")\n",
        "\n"
      ],
      "execution_count": null,
      "outputs": []
    },
    {
      "cell_type": "code",
      "metadata": {
        "id": "SidURqbsvb9E"
      },
      "source": [
        "#Exercício 6 - lista \"Exercícios 2021\"\n",
        "\n",
        "print(\"Quantos quilos e gramas é o peso do prato?\")\n",
        "peso = float(input())\n",
        "valorTotal = 29 * peso\n",
        "print(\"O valor total sera de \",valorTotal,\"R$\")\n"
      ],
      "execution_count": null,
      "outputs": []
    },
    {
      "cell_type": "code",
      "metadata": {
        "id": "qW0K81iewYTn",
        "colab": {
          "base_uri": "https://localhost:8080/"
        },
        "outputId": "76aeae44-48ca-4cff-b153-420a75b27961"
      },
      "source": [
        "#Exercício 7 - lista \"Exercícios 2021\"\n",
        "print(\"Digite o dia\")\n",
        "dia = int(input())\n",
        "print(\"Digite o mês\")\n",
        "mes = int(input())\n",
        "\n",
        "if(mes == 1):\n",
        "    print(\"Já se passaram\",dia,\"dias desde o início do ano\")\n",
        "else:\n",
        "    mes = mes * 30 - 30\n",
        "    total = dia + mes\n",
        "    print(\"Já se passaram\",total,\"dias desde o início do ano\")\n",
        "\n",
        "\n"
      ],
      "execution_count": null,
      "outputs": [
        {
          "output_type": "stream",
          "text": [
            "Digite o dia\n",
            "10\n",
            "Digite o mês\n",
            "2\n",
            "Já se passaram 40 dias desde o início do ano\n"
          ],
          "name": "stdout"
        }
      ]
    },
    {
      "cell_type": "code",
      "metadata": {
        "id": "250vNN6u25Fd"
      },
      "source": [
        "#Exercício 8 - lista \"Exercícios 2021\"\n",
        "\n",
        "print(\"Qual a nota de peso 2?\")\n",
        "peso2 = float(input()) * 2\n",
        "print(\"Qual a nota de peso 4?\")\n",
        "peso4 = float(input()) * 4\n",
        "print(\"Qual a nota de peso 6?\")\n",
        "peso6 = float(input()) * 6\n",
        "\n",
        "mediaPonderada = (peso2 + peso4 + peso6) / 12\n",
        "print(\"Sua media ponderada é igual a:\", mediaPonderada)\n"
      ],
      "execution_count": null,
      "outputs": []
    },
    {
      "cell_type": "code",
      "metadata": {
        "id": "Yn_faA5i4N1d"
      },
      "source": [
        "#Exercício 9 - lista \"Exercícios 2021\"\n",
        "\n",
        "p = 15\n",
        "m = 20\n",
        "g= 35\n",
        "\n",
        "print(\"Informe quantas camisetas pequenas foram vendidas hoje:\")\n",
        "qpequena = int(input())\n",
        "print(\"Informe quantas camisetas medias foram vendidas hoje:\")\n",
        "qmedia = int(input())\n",
        "print(\"Informe quantas camisetas grandes foram vendidas hoje:\")\n",
        "qgrande = int(input())\n",
        "\n",
        "totalCamisetas= qpequena + qmedia + qgrande\n",
        "totalArrecadado = (qpequena * p ) + (qmedia * m) + (qgrande * g)\n",
        "\n",
        "print(\"A quantidade de camisetas vendidas é igual a:\",totalCamisetas,\"\\nO total arrecadado é igual a:\", totalArrecadado,\"Reais\")"
      ],
      "execution_count": null,
      "outputs": []
    },
    {
      "cell_type": "code",
      "metadata": {
        "id": "HXBusM5O5reM"
      },
      "source": [
        "#Exercício 10 - lista \"Exercícios 2021\"\n",
        "\n",
        "print(\"Qual é o seu salário inicial\")\n",
        "salarioInicial = float(input())\n",
        "reajuste = (salarioInicial * 15 / 100) + salarioInicial\n",
        "imposto = reajuste - (reajuste * 8 / 100)\n",
        "print(\"Voce receberá um aumento de 15%, seu salário reajustado será de:\",reajuste,\"reais\")\n",
        "print(\"Entretanto, como o Estado Brasileiro não presta, terá que pagar 8% do seu salário em impostos, sendo seu salário final igual a:\",imposto,\"reais\")"
      ],
      "execution_count": null,
      "outputs": []
    },
    {
      "cell_type": "code",
      "metadata": {
        "id": "fu4rxP5J-g8M",
        "colab": {
          "base_uri": "https://localhost:8080/"
        },
        "outputId": "3f41d4e9-a39f-4c2d-dd7c-5c22d451773b"
      },
      "source": [
        "#Exercício 11 - lista \"Exercícios 2021\"\n",
        "\n",
        "print(\"Digite um numero intero\")\n",
        "inteiro = int(input())\n",
        "\n",
        "if(inteiro > 100):\n",
        "  print(\"Centena:\",inteiro // 100)\n",
        "  print(\"Dezena:\",inteiro % 100 // (10))\n",
        "  print(\"Unidade:\",inteiro %10)\n",
        "\n",
        "elif(inteiro > 10):\n",
        "  print(\"Dezena:\",inteiro // 10)\n",
        "  print(\"Unidade:\",inteiro % 10)\n",
        "\n",
        "else:\n",
        "  print(\"Unidade:\", inteiro)\n",
        "\n"
      ],
      "execution_count": null,
      "outputs": [
        {
          "output_type": "stream",
          "text": [
            "Digite um numero intero\n",
            "999\n",
            "Centena: 9\n",
            "Dezena: 9\n",
            "Unidade: 9\n"
          ],
          "name": "stdout"
        }
      ]
    },
    {
      "cell_type": "code",
      "metadata": {
        "id": "2sOmy-ZzA8dl"
      },
      "source": [
        "#Exercício 12 - lista \"Exercícios 2021\"\n",
        "\n",
        "print(\"Qual é o raio R da pizza?\")\n",
        "R = float(input())\n",
        "area =3.14 * R**2\n",
        "print(\"Area =\",area)"
      ],
      "execution_count": null,
      "outputs": []
    },
    {
      "cell_type": "code",
      "metadata": {
        "id": "PB3A4Qy4DFtS"
      },
      "source": [
        "#Exercício 13 - lista \"Exercícios 2021\"\n",
        "\n",
        "print(\"Digite a entrada de temperatura em graus celsius\")\n",
        "c = float(input())\n",
        "conversor = c * (9 / 5) + 32\n",
        "\n",
        "print(\"A temperatura\",c,\"graus equivale a\",conversor,\"graus fahrenheit\")\n"
      ],
      "execution_count": null,
      "outputs": []
    },
    {
      "cell_type": "code",
      "metadata": {
        "id": "NC9_5No5EFYP"
      },
      "source": [
        "#Exercício 14 - lista \"Exercícios 2021\"\n",
        "\n",
        "print(\"Qual a quantidade de horas normais trabalhadas no mes?\")\n",
        "horasNormais = int(input())\n",
        "print(\"Qual a quantidade de horas extras trabalhadas no mes\")\n",
        "horasExtras = int(input())\n",
        "\n",
        "preçoHN = horasNormais * 80\n",
        "preçoHE = horasExtras * 105\n",
        "\n",
        "salarioBruto = preçoHN + preçoHE\n",
        "print(\"O seu salário bruto é igual a\",salarioBruto)\n",
        "\n",
        "salarioLiquido = salarioBruto - (salarioBruto * 10 / 100)\n",
        "\n",
        "print(\"O seu salário líquido é igual a:\",salarioLiquido)\n"
      ],
      "execution_count": null,
      "outputs": []
    },
    {
      "cell_type": "code",
      "metadata": {
        "id": "GsANwZOeIb7f"
      },
      "source": [
        "#Exercício 15 - lista \"Exercícios 2021\"\n",
        "\n",
        "print(\"Quantos frangos possuem a fazenda?\")\n",
        "frangos = int(input())\n",
        "anelAlimento = 7\n",
        "anelChip = 6.5\n",
        "\n",
        "preço = (anelAlimento * frangos) + (anelChip * frangos)\n",
        "print(\"A quantidade total gasta com os aneis é de:\", preço,\"Reais\")\n",
        "\n",
        "\n"
      ],
      "execution_count": null,
      "outputs": []
    },
    {
      "cell_type": "code",
      "metadata": {
        "id": "qSqjV0xzJjdt"
      },
      "source": [
        "#Exercício 16 - lista \"Exercícios 2021\"\n",
        "\n",
        "\n",
        "print(\"Quantas moedas de 5 centavos existem no cofrinho?\")\n",
        "q5 = int(input())\n",
        "print(\"Quantas moedas de 10 centavos existem no cofrinho?\")\n",
        "q10 = int(input())\n",
        "print(\"Quantas moedas de 25 centavos existem no cofrinho?\")\n",
        "q25 = float(input())\n",
        "print(\"Quantas moedas de 50 centavos existem no cofrinho?\")\n",
        "q50 = int(input())\n",
        "print(\"Quantas moedas de 1 real existem no cofrinho?\")\n",
        "q100 = int(input())\n",
        "\n",
        "numTotal = (q5 * 0.05) + (q10 * 0.1) + (q25 * 0.25) + (q50 * 0.5) + (q100 * 1)\n",
        "print(\"A quantia total em moedas é igual a\",numTotal,\"reais\")\n"
      ],
      "execution_count": null,
      "outputs": []
    },
    {
      "cell_type": "code",
      "metadata": {
        "id": "3uuKMZekO0uS",
        "colab": {
          "base_uri": "https://localhost:8080/"
        },
        "outputId": "a1ed19b2-2dd8-4234-dac4-87b0268a6029"
      },
      "source": [
        "#Exercício 17 - lista \"Exercícios 2021\"\n",
        "\n",
        "print(\"Digite o numero no qual deseja saber a tabuada:\")\n",
        "numero = int(input())\n",
        "\n",
        "multiplicador = 0\n",
        "while(multiplicador >= 0 and multiplicador <= 9):\n",
        "  multiplicador +=1\n",
        "  print(\"a tabuada de\", numero,\"vezes\", multiplicador,\"é igual a\",numero * multiplicador)\n",
        "\n"
      ],
      "execution_count": null,
      "outputs": [
        {
          "output_type": "stream",
          "text": [
            "Digite o numero no qual deseja saber a tabuada:\n",
            "-5\n",
            "a tabuada de -5 vezes 1 é igual a -5\n",
            "a tabuada de -5 vezes 2 é igual a -10\n",
            "a tabuada de -5 vezes 3 é igual a -15\n",
            "a tabuada de -5 vezes 4 é igual a -20\n",
            "a tabuada de -5 vezes 5 é igual a -25\n",
            "a tabuada de -5 vezes 6 é igual a -30\n",
            "a tabuada de -5 vezes 7 é igual a -35\n",
            "a tabuada de -5 vezes 8 é igual a -40\n",
            "a tabuada de -5 vezes 9 é igual a -45\n",
            "a tabuada de -5 vezes 10 é igual a -50\n"
          ],
          "name": "stdout"
        }
      ]
    }
  ]
}