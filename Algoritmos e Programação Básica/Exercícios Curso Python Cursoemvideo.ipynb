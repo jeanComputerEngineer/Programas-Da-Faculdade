{
  "cells": [
    {
      "cell_type": "markdown",
      "metadata": {
        "id": "Z28YtmiefjyU"
      },
      "source": [
        "EXERCÍCIOS FOR\n",
        "\n",
        "\n",
        "\n",
        "\n"
      ]
    },
    {
      "cell_type": "code",
      "execution_count": null,
      "metadata": {
        "colab": {
          "base_uri": "https://localhost:8080/"
        },
        "id": "uXIU5Innm1nK",
        "outputId": "e019a6ce-2ef6-426f-cb20-30fff910ad58"
      },
      "outputs": [
        {
          "name": "stdout",
          "output_type": "stream",
          "text": [
            "Qual é o valor da casa? 20000\n",
            "Qual é o salário do comprador? 1000\n",
            "Quantos anos ele irá pagar? 5\n",
            "Você pagará 333.3333333333333 mensalmente pela casa, \n",
            "O valor da prestação excedeu em 30% o seu salário, logo, não poderá efetuar o empréstimo!\n"
          ]
        }
      ],
      "source": [
        "valorCasa = int(input(\"Qual é o valor da casa? \"))\n",
        "salario = int(input(\"Qual é o salário do comprador? \"))\n",
        "anos = int(input(\"Quantos anos ele irá pagar? \"))\n",
        "prestaçãoMensal = valorCasa / (anos * 12)\n",
        "print(\"Você pagará {} mensalmente pela casa, \" .format(prestaçãoMensal))\n",
        "\n",
        "minimo = salario * 0.3\n",
        "\n",
        "if prestaçãoMensal > minimo:\n",
        "  print(\"O valor da prestação excedeu em 30% o seu salário, logo, não poderá efetuar o empréstimo!\")\n",
        "else: print(\"Voce poderá efetuar o empréstimo!\")\n",
        "\n"
      ]
    },
    {
      "cell_type": "code",
      "execution_count": null,
      "metadata": {
        "colab": {
          "base_uri": "https://localhost:8080/"
        },
        "id": "Bfnozk9GqEUy",
        "outputId": "823b5063-0989-4896-a7ca-99e9c25a5d4a"
      },
      "outputs": [
        {
          "name": "stdout",
          "output_type": "stream",
          "text": [
            "Digite um numero inteiro qualquer 9\n",
            "[1] para converter em binário \n",
            "[2] para octal \n",
            "[3] para hexadecimal\n",
            " 3\n",
            "O seu equivalente em hexadecimal é igual a 0x9\n"
          ]
        }
      ],
      "source": [
        "import math\n",
        "\n",
        "n = int(input(\"Digite um numero inteiro qualquer \"))\n",
        "conversor = int(input(\"[1] para converter em binário \\n[2] para octal \\n[3] para hexadecimal\\n \"))\n",
        "\n",
        "if conversor == 1:\n",
        "  n = bin(n)\n",
        "  print(\"O seu equivalente em binário é igual a \", n)\n",
        "elif conversor == 2:\n",
        "  n = oct(n)\n",
        "  print(\"O seu equivalente octal é igual a \", n)\n",
        "elif conversor == 3:\n",
        "  n = hex(n)\n",
        "  print(\"O seu equivalente em hexadecimal é igual a\", n)\n"
      ]
    },
    {
      "cell_type": "code",
      "execution_count": null,
      "metadata": {
        "colab": {
          "base_uri": "https://localhost:8080/"
        },
        "id": "bXp5CTVcsSHr",
        "outputId": "cd7f2150-919a-4b95-fcb7-5b1307693bc0"
      },
      "outputs": [
        {
          "name": "stdout",
          "output_type": "stream",
          "text": [
            "Digite o primeiro valor 3\n",
            "Digite o segundo valor 2\n",
            "O primeiro valor é maior\n"
          ]
        }
      ],
      "source": [
        "n = int(input(\"Digite o primeiro valor \"))\n",
        "p = int(input(\"Digite o segundo valor \"))\n",
        "\n",
        "if n < p:\n",
        "  print(\"O segundo valor é maior\")\n",
        "elif n > p:\n",
        "  print(\"O primeiro valor é maior\")\n",
        "else: print(\"Os dois são iguais, não existe maior\")"
      ]
    },
    {
      "cell_type": "code",
      "execution_count": null,
      "metadata": {
        "colab": {
          "base_uri": "https://localhost:8080/"
        },
        "id": "IySvoTQZs2EN",
        "outputId": "5f7b798e-0aa9-4b9d-e371-f7991580e784"
      },
      "outputs": [
        {
          "name": "stdout",
          "output_type": "stream",
          "text": [
            "Digite o seu ano de nascimento: 2008\n",
            "Em que ano você se encontra?2022\n",
            "Ainda não está na hora de se alistar, restam 4 anos para isso. \n"
          ]
        }
      ],
      "source": [
        "ano = int(input(\"Digite o seu ano de nascimento: \"))\n",
        "anoAtual = int(input(\"Em que ano você se encontra?\"))\n",
        "\n",
        "if anoAtual - ano > 18:\n",
        "  print(\"Ja passou do tempo de alistamento\")\n",
        "elif anoAtual - ano == 18:\n",
        "  print(\"Está na hora de se alistar 3:)\")\n",
        "else:\n",
        "  restante = 18 - (anoAtual - ano)\n",
        "  print(\"Ainda não está na hora de se alistar, restam {} anos para isso. \" .format(restante))\n",
        "\n",
        "\n"
      ]
    },
    {
      "cell_type": "code",
      "execution_count": null,
      "metadata": {
        "colab": {
          "base_uri": "https://localhost:8080/"
        },
        "id": "PBj_tG4ruWwc",
        "outputId": "00aeea48-f048-49e8-8711-dde59a720081"
      },
      "outputs": [
        {
          "name": "stdout",
          "output_type": "stream",
          "text": [
            "Digite o seu ano de nascimento: 1980\n",
            "Qual é o ano atual?2022\n",
            "O nadador será enquadrado na classe MASTER\n"
          ]
        }
      ],
      "source": [
        "ano = int(input(\"Digite o seu ano de nascimento: \"))\n",
        "anoAtual = int(input(\"Qual é o ano atual?\"))\n",
        "\n",
        "if anoAtual - ano <= 9:\n",
        "  print(\"O nadador será enquadrado na classe MIRIM\")\n",
        "elif anoAtual - ano > 9 and anoAtual - ano <= 14:\n",
        "  print(\"O nadador será enquadrado na classe INFANTIL\")\n",
        "elif anoAtual - ano > 14 and anoAtual - ano <= 19:\n",
        "  print(\"O nadador será enquadrado na classe JUNIOR\")\n",
        "elif anoAtual - ano > 19 and anoAtual - ano <=20:\n",
        "  print(\"O nadador será enquadrado na classe SêNIOR\")\n",
        "elif anoAtual - ano > 20:\n",
        "  print(\"O nadador será enquadrado na classe MASTER\")\n",
        "else: print(\"Ano de nascimento inválido!\")\n",
        "\n"
      ]
    },
    {
      "cell_type": "code",
      "execution_count": null,
      "metadata": {
        "colab": {
          "base_uri": "https://localhost:8080/"
        },
        "id": "wytCt4QDvc1Z",
        "outputId": "a493c78a-682b-4729-d125-fe1b06d0a78e"
      },
      "outputs": [
        {
          "name": "stdout",
          "output_type": "stream",
          "text": [
            "Digite o comprimento em metros reta x 4\n",
            "Digite o comprimento em metros reta y 4\n",
            "Digite o comprimento em metros reta z 3\n",
            "As suas retas formam um triangulo\n",
            "É um triângulo isosceles\n"
          ]
        }
      ],
      "source": [
        "retax = int(input(\"Digite o comprimento em metros reta x \"))\n",
        "retay = int(input(\"Digite o comprimento em metros reta y \"))\n",
        "retaz = int(input(\"Digite o comprimento em metros reta z \"))\n",
        "\n",
        "if retax > abs(retay - retaz) and retax < retay + retaz:\n",
        "  print(\"As suas retas formam um triangulo\")\n",
        "  if retax == retay and retay == retaz:\n",
        "    print(\"E é um triângulo equilátero\")\n",
        "  elif retax != retay and retax != retaz:\n",
        "    print(\"E é um triângulo escaleno\")\n",
        "  else: print(\"É um triângulo isosceles\")\n",
        "else: print(\"As suas retas não formam um triangulo\")\n",
        "\n",
        "\n"
      ]
    },
    {
      "cell_type": "code",
      "execution_count": null,
      "metadata": {
        "colab": {
          "base_uri": "https://localhost:8080/"
        },
        "id": "IGf3Xq0KyBER",
        "outputId": "6efb4b5b-5d31-41e3-8b22-866f71220ffb"
      },
      "outputs": [
        {
          "name": "stdout",
          "output_type": "stream",
          "text": [
            "Qual é o seu peso em kilogramas?80\n",
            "Qual é a sua altura em metros?1.8\n",
            "Peso ideal\n"
          ]
        }
      ],
      "source": [
        "peso = float(input(\"Qual é o seu peso em kilogramas? \"))\n",
        "altura = float(input(\"Qual é a sua altura em metros? \"))\n",
        "\n",
        "imc = peso / (altura ** 2)\n",
        "\n",
        "if imc < 18.5:\n",
        "  print(\"Abaixo do peso\")\n",
        "elif imc >= 18.5 and imc <=25:\n",
        "  print(\"Peso ideal\")\n",
        "elif imc > 25 and imc <= 30:\n",
        "  print(\"Sobrepeso\")\n",
        "elif imc > 30 and imc <= 40:\n",
        "  print(\"Obesidade\")\n",
        "else:\n",
        "  print(\"Obesidade Mórbida\")\n"
      ]
    },
    {
      "cell_type": "code",
      "execution_count": null,
      "metadata": {
        "colab": {
          "base_uri": "https://localhost:8080/"
        },
        "id": "hvp1TjUjzFBO",
        "outputId": "adadaacd-89bf-4d92-fe7b-ae1222999aa6"
      },
      "outputs": [
        {
          "name": "stdout",
          "output_type": "stream",
          "text": [
            "O valor do produto é 40 reais\n",
            "Selecione o método de pagamento:\n",
            "[1] À Vista\n",
            "[2] À Vista no cartão\n",
            "[3] Em Até 2x no cartão\n",
            "[4] 3x ou mais no cartão\n",
            "1\n",
            "O valor a ser pago será 36.0 reais\n"
          ]
        }
      ],
      "source": [
        "preçoNormal = 40\n",
        "print(\"O valor do produto é {} reais\" .format(preçoNormal))\n",
        "metodoPagamento = int(input(\"Selecione o método de pagamento:\\n[1] À Vista\\n[2] À Vista no cartão\\n[3] Em Até 2x no cartão\\n[4] 3x ou mais no cartão\\n\"))\n",
        "\n",
        "\n",
        "if metodoPagamento == 1:\n",
        "  preçoNormal = preçoNormal - (preçoNormal * 0.1)\n",
        "  print(\"O valor a ser pago será {} reais\" .format(preçoNormal))\n",
        "elif metodoPagamento == 2:\n",
        "  preçoNormal = preçoNormal - (preçoNormal * 0.05)\n",
        "  print(\"O valor a ser pago será {} reais\" .format(preçoNormal))\n",
        "elif metodoPagamento == 3:\n",
        "  preçoNormal = preçoNormal\n",
        "  print(\"O valor a ser pago será {} reais\" .format(preçoNormal))\n",
        "elif metodoPagamento == 4:\n",
        "  preçoNormal = preçoNormal + (preçoNormal * 0.2)\n",
        "  print(\"O valor a ser pago será {} reais\" .format(preçoNormal))\n"
      ]
    },
    {
      "cell_type": "code",
      "execution_count": null,
      "metadata": {
        "colab": {
          "base_uri": "https://localhost:8080/"
        },
        "id": "JEuraQeH1USj",
        "outputId": "eef46cd8-1c68-45d3-99bd-80bcf6bbf446"
      },
      "outputs": [
        {
          "name": "stdout",
          "output_type": "stream",
          "text": [
            "Qual você escolhe?\n",
            "[1] Pedra\n",
            "[2] Papel\n",
            "[3] Tesoura\n",
            "3\n",
            "-----------\n",
            "JO\n",
            "KEN\n",
            "PO!!!\n",
            "-----------\n",
            "Você perdeu, a máquina escolheu Pedra, e você, Tesoura\n"
          ]
        }
      ],
      "source": [
        "import random\n",
        "from time import sleep\n",
        "\n",
        "opMaquina = ['pedra', 'papel', 'tesoura']\n",
        "escolha = random.choice(opMaquina)\n",
        "\n",
        "opHumano = int(input(\"Qual você escolhe?\\n[1] Pedra\\n[2] Papel\\n[3] Tesoura\\n\"))\n",
        "\n",
        "print(\"-----------\\nJO\")\n",
        "sleep(1)\n",
        "print(\"KEN\")\n",
        "sleep(1)\n",
        "print(\"PO!!!\\n-----------\")\n",
        "\n",
        "if escolha == opMaquina[1]:\n",
        "  if opHumano == 2:\n",
        "    print(\"Empate, ambos escolheram Papel\")\n",
        "  elif opHumano == 1:\n",
        "    print(\"Você perdeu, a máquina escolheu Papel, e você, Pedra\")\n",
        "  elif opHumano == 3:\n",
        "    print(\"Voce ganhou, a máquina escolheu Papel, e você, Tesoura\")\n",
        "\n",
        "if escolha == opMaquina[0]:\n",
        "  if opHumano == 1:\n",
        "    print(\"Empate, ambos escolheram Pedra\")\n",
        "  elif opHumano == 3:\n",
        "    print(\"Você perdeu, a máquina escolheu Pedra, e você, Tesoura\")\n",
        "  elif opHumano == 2:\n",
        "    print(\"Voce ganhou, a máquina escolheu Pedra, e você, Papel\")\n",
        "\n",
        "if escolha == opMaquina[2]:\n",
        "  if opHumano == 3:\n",
        "    print(\"Empate, ambos escolheram Tesoura\")\n",
        "  elif opHumano == 2:\n",
        "    print(\"Você perdeu, a máquina escolheu Tesoura, e você, Papel\")\n",
        "  elif opHumano == 1:\n",
        "    print(\"Voce ganhou, a máquina escolheu Tesoura, e você, Pedra\")\n",
        "\n",
        "\n",
        "\n"
      ]
    },
    {
      "cell_type": "code",
      "execution_count": null,
      "metadata": {
        "colab": {
          "base_uri": "https://localhost:8080/"
        },
        "id": "3VR5Uyp_5n8Z",
        "outputId": "dd782c45-db76-43d5-eff2-7e6c50922bd9"
      },
      "outputs": [
        {
          "name": "stdout",
          "output_type": "stream",
          "text": [
            "Contagem regressiva para o estouro dos fogos!!\n",
            "10\n",
            "9\n",
            "8\n",
            "7\n",
            "6\n",
            "5\n",
            "4\n",
            "3\n",
            "2\n",
            "1\n",
            "0\n",
            "COMEÇOUUUUUU!!!!!\n"
          ]
        }
      ],
      "source": [
        "import time\n",
        "print(\"Contagem regressiva para o estouro dos fogos!!\")\n",
        "c = 11\n",
        "\n",
        "for i in range(0,11):\n",
        "  c-= 1\n",
        "  print(c)\n",
        "  sleep(1)\n",
        "print(\"COMEÇOUUUUUU!!!!! BOOOOM!!!!\")\n",
        "\n"
      ]
    },
    {
      "cell_type": "code",
      "execution_count": null,
      "metadata": {
        "colab": {
          "base_uri": "https://localhost:8080/"
        },
        "id": "SeFZx3D0iBrs",
        "outputId": "070aa3bf-3636-482c-ad25-cbd322d6096f"
      },
      "outputs": [
        {
          "name": "stdout",
          "output_type": "stream",
          "text": [
            "0\n",
            "2\n",
            "4\n",
            "6\n",
            "8\n",
            "10\n",
            "12\n",
            "14\n",
            "16\n",
            "18\n",
            "20\n",
            "22\n",
            "24\n",
            "26\n",
            "28\n",
            "30\n",
            "32\n",
            "34\n",
            "36\n",
            "38\n",
            "40\n",
            "42\n",
            "44\n",
            "46\n",
            "48\n",
            "50\n"
          ]
        }
      ],
      "source": [
        "for i in range (0,51, 2):\n",
        "  print(i)"
      ]
    },
    {
      "cell_type": "code",
      "execution_count": null,
      "metadata": {
        "colab": {
          "base_uri": "https://localhost:8080/"
        },
        "id": "cp9hbi8riTot",
        "outputId": "cde5483e-4a9e-4285-ea0c-66e3d5852549"
      },
      "outputs": [
        {
          "name": "stdout",
          "output_type": "stream",
          "text": [
            "3\n",
            "9\n",
            "15\n",
            "21\n",
            "27\n",
            "33\n",
            "39\n",
            "45\n",
            "51\n",
            "57\n",
            "63\n",
            "69\n",
            "75\n",
            "81\n",
            "87\n",
            "93\n",
            "99\n",
            "105\n",
            "111\n",
            "117\n",
            "123\n",
            "129\n",
            "135\n",
            "141\n",
            "147\n",
            "153\n",
            "159\n",
            "165\n",
            "171\n",
            "177\n",
            "183\n",
            "189\n",
            "195\n",
            "201\n",
            "207\n",
            "213\n",
            "219\n",
            "225\n",
            "231\n",
            "237\n",
            "243\n",
            "249\n",
            "255\n",
            "261\n",
            "267\n",
            "273\n",
            "279\n",
            "285\n",
            "291\n",
            "297\n",
            "303\n",
            "309\n",
            "315\n",
            "321\n",
            "327\n",
            "333\n",
            "339\n",
            "345\n",
            "351\n",
            "357\n",
            "363\n",
            "369\n",
            "375\n",
            "381\n",
            "387\n",
            "393\n",
            "399\n",
            "405\n",
            "411\n",
            "417\n",
            "423\n",
            "429\n",
            "435\n",
            "441\n",
            "447\n",
            "453\n",
            "459\n",
            "465\n",
            "471\n",
            "477\n",
            "483\n",
            "489\n",
            "495\n",
            "20667\n"
          ]
        }
      ],
      "source": [
        "aux = 0\n",
        "r = 0\n",
        "\n",
        "for i in range(0,501,3):\n",
        "  if i % 2 != 0:\n",
        "    print(i)\n",
        "    aux = r + i\n",
        "    r = aux\n",
        "print(r)"
      ]
    },
    {
      "cell_type": "code",
      "execution_count": null,
      "metadata": {
        "colab": {
          "base_uri": "https://localhost:8080/"
        },
        "id": "pkon_5sSkh0J",
        "outputId": "ef72c7f6-41b7-4f82-8a0c-13e6b6313c2d"
      },
      "outputs": [
        {
          "name": "stdout",
          "output_type": "stream",
          "text": [
            "Digite qualquer número para saber sua tabuada 8.3121\n",
            "8.3121 vezes 0 é igual a 0.0\n",
            "8.3121 vezes 1 é igual a 8.31\n",
            "8.3121 vezes 2 é igual a 16.62\n",
            "8.3121 vezes 3 é igual a 24.94\n",
            "8.3121 vezes 4 é igual a 33.25\n",
            "8.3121 vezes 5 é igual a 41.56\n",
            "8.3121 vezes 6 é igual a 49.87\n",
            "8.3121 vezes 7 é igual a 58.18\n",
            "8.3121 vezes 8 é igual a 66.5\n",
            "8.3121 vezes 9 é igual a 74.81\n",
            "8.3121 vezes 10 é igual a 83.12\n"
          ]
        }
      ],
      "source": [
        "n = float(input(\"Digite qualquer número para saber sua tabuada \"))\n",
        "\n",
        "\n",
        "for i in range(0,11):\n",
        "  r = n * i\n",
        "  r = round(r, 2)\n",
        "  print(\"{0} vezes {1} é igual a {2}\" .format(n,i,r))"
      ]
    },
    {
      "cell_type": "code",
      "execution_count": null,
      "metadata": {
        "colab": {
          "base_uri": "https://localhost:8080/"
        },
        "id": "ljdLiQLJluAd",
        "outputId": "a1fce62d-996e-4e56-b205-d40c69a13074"
      },
      "outputs": [
        {
          "name": "stdout",
          "output_type": "stream",
          "text": [
            "Digite 6 números inteiros:\n",
            "1\n",
            "2\n",
            "3\n",
            "4\n",
            "5\n",
            "6\n",
            "A soma dos números pares é igual a  12\n"
          ]
        }
      ],
      "source": [
        "n = [int(input(\"Digite 6 números inteiros:\\n\")), int(input()), int(input()), int(input()), int(input()), int(input())]\n",
        "soma = 0\n",
        "for i in range(0,6):\n",
        "  if n[i] % 2 == 0:\n",
        "    soma = soma + n[i]\n",
        "print(\"A soma dos números pares é igual a \", soma)\n",
        "\n",
        "\n"
      ]
    },
    {
      "cell_type": "code",
      "execution_count": null,
      "metadata": {
        "colab": {
          "base_uri": "https://localhost:8080/"
        },
        "id": "pgNehOoKqaxv",
        "outputId": "9dfe7e8f-14c4-40e6-8834-7f8d933cd6f9"
      },
      "outputs": [
        {
          "name": "stdout",
          "output_type": "stream",
          "text": [
            "Digite a razão da progressão aritimética 2\n",
            "Digite o primeiro termo da progressão 3\n",
            "21.0\n",
            "19.0\n",
            "17.0\n",
            "15.0\n",
            "13.0\n",
            "11.0\n",
            "9.0\n",
            "7.0\n",
            "5.0\n",
            "3.0\n",
            "Eis os 10 primeiros termos da determina Progressão Aritimética\n"
          ]
        }
      ],
      "source": [
        "r = float(input(\"Digite a razão da progressão aritimética \"))\n",
        "n1 = float(input(\"Digite o primeiro termo da progressão \"))\n",
        "n = 11\n",
        "\n",
        "for i in range(0,10):\n",
        "  n = n - 1\n",
        "  an = n1 + (n - 1) * r\n",
        "  print(an)\n",
        "print(\"Eis os 10 primeiros termos da determina Progressão Aritimética\")\n",
        "\n"
      ]
    },
    {
      "cell_type": "code",
      "execution_count": 22,
      "metadata": {
        "colab": {
          "base_uri": "https://localhost:8080/"
        },
        "id": "0HskzY7Xrfqr",
        "outputId": "157b008d-cf27-4de0-b25d-95111eb5b2b5"
      },
      "outputs": [
        {
          "output_type": "stream",
          "name": "stdout",
          "text": [
            "Digite um número qualquer 12312\n",
            "O seu número não é primo\n"
          ]
        }
      ],
      "source": [
        "#isso tem mais soluções, mas eis apenas duas aqui\n",
        "\n",
        "n = int(input(\"Digite um número qualquer \"))\n",
        "\n",
        "\"\"\"\n",
        "\n",
        "for i in range(2,n + 1):\n",
        "  if n % i == 0 and n != 2:\n",
        "    if i == n or n % 2 == 0:\n",
        "      print(\"O seu numero não é um número primo\")\n",
        "      break\n",
        "  elif n % i != 0 and n % 3 != 0 and n % 5 != 0:\n",
        "    if i == n - 1:\n",
        "      print(\"É um número primo\")\n",
        "      break\n",
        "  elif n == 2 or n == 3:\n",
        "    print(\"É um número primo\")\n",
        "    break\n",
        "\n",
        "    \"\"\"\n",
        "\n",
        "\n",
        "if n == 2:\n",
        "  print(\"O seu número é primo\")\n",
        "if n == 1:\n",
        "  print(\"O seu número não é primo\")\n",
        "\n",
        "for i in range(2, n):\n",
        "  if n % i == 0:\n",
        "    print(\"O seu número não é primo\")\n",
        "    break\n",
        "  elif n % i != 0 and i == n - 1:\n",
        "    print(\"O seu número é primo\")\n",
        "\n",
        "\n",
        "\n",
        "\n",
        "\n",
        "\n",
        "\n"
      ]
    },
    {
      "cell_type": "code",
      "execution_count": null,
      "metadata": {
        "colab": {
          "base_uri": "https://localhost:8080/"
        },
        "id": "BKwZM2Ko2yzA",
        "outputId": "a1f06c97-0098-45e0-a5e4-2e1ca87d361c"
      },
      "outputs": [
        {
          "name": "stdout",
          "output_type": "stream",
          "text": [
            "Digite 7 anos de nascimentos diferentes: \n",
            "2002\n",
            "1990\n",
            "1980\n",
            "2008\n",
            "2012\n",
            "2017\n",
            "2018\n",
            "4 pessoas são menores de idade\n",
            "3 pessoas são maiores de idade\n"
          ]
        }
      ],
      "source": [
        "from datetime import date\n",
        "\n",
        "anoNascimento = [int(input(\"Digite 7 anos de nascimentos diferentes: \\n\")), int(input()), int(input()), int(input()), int(input()),\n",
        "int(input()), int(input())]\n",
        "anoAtual = date.today().year\n",
        "\n",
        "aux = 0\n",
        "aux1 = 0\n",
        "for i in range(0,7):\n",
        "  if anoAtual - anoNascimento[i]  >= 18:\n",
        "    aux += 1\n",
        "  else:\n",
        "    aux1 += 1\n",
        "\n",
        "print(\"{} pessoas são menores de idade\" .format(aux1))\n",
        "print(\"{} pessoas são maiores de idade\" .format(aux))\n",
        "\n",
        "\n"
      ]
    },
    {
      "cell_type": "code",
      "execution_count": 21,
      "metadata": {
        "colab": {
          "base_uri": "https://localhost:8080/"
        },
        "id": "d9UYc3UWGFKk",
        "outputId": "98183425-d498-47bc-99fc-d308854205c8"
      },
      "outputs": [
        {
          "output_type": "stream",
          "name": "stdout",
          "text": [
            "Digite uma frase e eu direi se ela é um palíndromosubi no onibus\n",
            "SUBINOONIBUS SUBINOONIBUS\n",
            "é um palíndromo\n"
          ]
        }
      ],
      "source": [
        "\n",
        "frase = str(input(\"Digite uma frase e eu direi se ela é um palíndromo\" )).strip().upper()\n",
        "\n",
        "frase = frase.split()\n",
        "frase = \"\".join(frase)\n",
        "inverso = ''\n",
        "\n",
        "for i in range(len(frase) -1, -1, -1):\n",
        "  inverso += frase[i]\n",
        "print(inverso, frase)\n",
        "\n",
        "if inverso == frase:\n",
        "  print(\"é um palíndromo\")\n",
        "else: print(\"Não é um palindromo!\")"
      ]
    },
    {
      "cell_type": "code",
      "execution_count": null,
      "metadata": {
        "colab": {
          "base_uri": "https://localhost:8080/"
        },
        "id": "HJKcUxJk944h",
        "outputId": "a36e75dc-af27-4786-c03a-855ecb0f3fdb"
      },
      "outputs": [
        {
          "name": "stdout",
          "output_type": "stream",
          "text": [
            "Digite 5 pesos em KGs 80\n",
            "80\n",
            "30\n",
            "30\n",
            "20\n",
            "O maior peso é o de 80.0 kilos \n"
          ]
        }
      ],
      "source": [
        "peso = [float(input(\"Digite 5 pesos em KGs \")), float(input()), float(input()), float(input()), float(input())]\n",
        "contador = 0\n",
        "\n",
        "for i in range(0, 5):\n",
        "  for j in range(0,5):\n",
        "    if peso[i] >= peso[j]:\n",
        "      contador = contador + 1\n",
        "      if contador == 5:\n",
        "        print(\"O maior peso é o de {} kilos \". format(peso[i]))\n",
        "\n",
        "\n",
        "\n",
        "\n"
      ]
    },
    {
      "cell_type": "code",
      "execution_count": null,
      "metadata": {
        "colab": {
          "base_uri": "https://localhost:8080/"
        },
        "id": "7_e5EYT0BDkU",
        "outputId": "51f78851-3914-416f-a54b-c998f142a9e2"
      },
      "outputs": [
        {
          "name": "stdout",
          "output_type": "stream",
          "text": [
            "PESSOA: \n",
            "========\n",
            "Nome: 31231\n",
            "Idade: 2\n",
            "Sexo(M ou F): f\n",
            "PESSOA: \n",
            "========\n",
            "Nome: 12\n",
            "Idade: 2\n",
            "Sexo(M ou F): f\n",
            "PESSOA: \n",
            "========\n",
            "Nome: 13\n",
            "Idade: 2\n",
            "Sexo(M ou F): f\n",
            "PESSOA: \n",
            "========\n",
            "Nome: 14\n",
            "Idade: 3\n",
            "Sexo(M ou F): f\n",
            "A media da idade é igual a:  2.25 anos\n",
            "O homem mais velho é  e possui 0 anos\n",
            "Existem 4 mulheres com menos de 20 anos, e elas são: 14\n"
          ]
        }
      ],
      "source": [
        "idadeTemp = 0\n",
        "mulheres = 0\n",
        "homenVelho = ''\n",
        "idadeLista = [0,0,0,0]\n",
        "\n",
        "for i in range(0, 4):\n",
        "  print(\"PESSOA: \\n========\")\n",
        "  nome = str(input(\"Nome: \")).strip()\n",
        "  idade = float(input(\"Idade: \"))\n",
        "  sexo = str(input(\"Sexo(M ou F): \")).strip().lower()\n",
        "  idadeLista[i] = idade\n",
        "\n",
        "  if i == 0 and sexo == \"m\":\n",
        "    idadeTemp = idade\n",
        "    homenVelho = nome\n",
        "  elif sexo == \"m\" and idade > idadeTemp:\n",
        "    idadeTemp = idade\n",
        "    homenVelho = nome\n",
        "  if sexo == \"f\" and idade < 20:\n",
        "    mulheres = mulheres + 1\n",
        "    nomeF[i] = nome\n",
        "\n",
        "\n",
        "\n",
        "\n",
        "media = ( idadeLista[0] + idadeLista[1] + idadeLista[2] + idadeLista[3] ) / 4\n",
        "print(\"A media da idade é igual a: \", media, \"anos\")\n",
        "print(\"O homem mais velho é {} e possui {} anos\" .format(homenVelho, idadeTemp))\n",
        "print(\"Existem {} mulheres com menos de 20 anos\".format(mulheres)\n",
        "\n",
        "\n",
        "\n",
        "\n",
        "\n",
        "\n",
        "\n",
        "\n"
      ]
    },
    {
      "cell_type": "markdown",
      "metadata": {
        "id": "vlrN_v3dfsQ4"
      },
      "source": [
        "EXERCÍCIOS WHILE\n",
        "\n",
        "\n",
        "\n",
        "\n",
        "\n"
      ]
    },
    {
      "cell_type": "code",
      "execution_count": null,
      "metadata": {
        "colab": {
          "base_uri": "https://localhost:8080/"
        },
        "id": "-yfYkvjyjqsZ",
        "outputId": "de309b43-d8a0-494a-accc-2a05ed129f65"
      },
      "outputs": [
        {
          "output_type": "stream",
          "name": "stdout",
          "text": [
            "Digite o sexo:\n",
            "[M] para masculino\n",
            "[F] para feminino\n",
            "n\n",
            "Digite uma respota válida! FILHO DA PUTA\n",
            "--------------------------\n",
            "\n",
            "Digite o sexo:\n",
            "[M] para masculino\n",
            "[F] para feminino\n",
            "k\n",
            "Digite uma respota válida! FILHO DA PUTA\n",
            "--------------------------\n",
            "\n",
            "Digite o sexo:\n",
            "[M] para masculino\n",
            "[F] para feminino\n",
            "m\n",
            "Parabéns por saber escrever o que se pede.\n"
          ]
        }
      ],
      "source": [
        "sexo = input(\"Digite o sexo:\"\n",
        "\"\\n[M] para masculino\"\n",
        "\"\\n[F] para feminino\\n\").lower()\n",
        "if sexo == 'm' or sexo == 'f':\n",
        "    print(\"Parabéns por saber escrever o que se pede.\")\n",
        "\n",
        "while sexo != 'm' and sexo != 'f':\n",
        "  print(\"Digite uma respota válida! FILHO DA PUTA\\n--------------------------\\n\")\n",
        "  sexo = input(\"Digite o sexo:\"\n",
        "\"\\n[M] para masculino\"\n",
        "\"\\n[F] para feminino\\n\")\n",
        "  if sexo == 'm' or sexo == 'f':\n",
        "    print(\"Parabéns por saber escrever o que se pede.\")\n",
        "\n",
        ""
      ]
    },
    {
      "cell_type": "code",
      "execution_count": null,
      "metadata": {
        "colab": {
          "base_uri": "https://localhost:8080/"
        },
        "id": "Ur8UpQ8vlG9s",
        "outputId": "64bca6a6-f2ac-4e73-f437-60b472e82030"
      },
      "outputs": [
        {
          "name": "stdout",
          "output_type": "stream",
          "text": [
            "Digite o número que o computador advinhou, entre 1 e 10\n",
            "2\n",
            "Voce errou o número! Continue tentando.\n",
            "Digite o número que o computador advinhou, entre 1 e 10\n",
            "1\n",
            "Voce errou o número! Continue tentando.\n",
            "Digite o número que o computador advinhou, entre 1 e 10\n",
            "3\n",
            "Voce errou o número! Continue tentando.\n",
            "Digite o número que o computador advinhou, entre 1 e 10\n",
            "4\n",
            "Voce errou o número! Continue tentando.\n",
            "Digite o número que o computador advinhou, entre 1 e 10\n",
            "5\n",
            "Voce errou o número! Continue tentando.\n",
            "Digite o número que o computador advinhou, entre 1 e 10\n",
            "6\n",
            "Voce errou o número! Continue tentando.\n",
            "Digite o número que o computador advinhou, entre 1 e 10\n",
            "7\n",
            "Parabéns, você acertou, e gastou 7 tentativas para acertar!\n"
          ]
        }
      ],
      "source": [
        "import random\n",
        "contador = 1\n",
        "n = random.randint(0, 11)\n",
        "nJogador = int(input(\"Digite o número que o computador advinhou, entre 1 e 10\\n\"))\n",
        "if nJogador == n:\n",
        "  print(\"Parabens, voce acertou de primeira!!! Foda demais!!!\")\n",
        "\n",
        "while nJogador != n:\n",
        "\n",
        "  print(\"Voce errou o número! Continue tentando.\")\n",
        "  nJogador = int(input(\"Digite o número que o computador advinhou, entre 1 e 10\\n\"))\n",
        "  contador += 1\n",
        "  if n == nJogador:\n",
        "    print(\"Parabéns, você acertou, e gastou {} tentativas para acertar!\" .format(contador))\n",
        "\n",
        "\n",
        "\n"
      ]
    },
    {
      "cell_type": "code",
      "execution_count": null,
      "metadata": {
        "colab": {
          "base_uri": "https://localhost:8080/"
        },
        "id": "egPCQMuMoavN",
        "outputId": "94923660-1f42-4dad-a622-6badecf3b84b"
      },
      "outputs": [
        {
          "name": "stdout",
          "output_type": "stream",
          "text": [
            "Digite dois valores na tela\n",
            "4\n",
            "3\n",
            "========================================\n",
            "Escolha a opção desejada:\n",
            "[1]somar\n",
            "[2]multiplicar\n",
            "[3]Maior\n",
            "[4]Novos Números\n",
            "[5]Sair\n",
            "\n",
            "2\n",
            "O resultado é igual a : 12\n",
            "========================================\n",
            "Escolha a opção desejada:\n",
            "[1]somar\n",
            "[2]multiplicar\n",
            "[3]Maior\n",
            "[4]Novos Números\n",
            "[5]Sair\n",
            "\n",
            "1\n",
            "O resultado é igual a : 7\n",
            "========================================\n",
            "Escolha a opção desejada:\n",
            "[1]somar\n",
            "[2]multiplicar\n",
            "[3]Maior\n",
            "[4]Novos Números\n",
            "[5]Sair\n",
            "\n",
            "2\n",
            "O resultado é igual a : 12\n",
            "========================================\n",
            "Escolha a opção desejada:\n",
            "[1]somar\n",
            "[2]multiplicar\n",
            "[3]Maior\n",
            "[4]Novos Números\n",
            "[5]Sair\n",
            "\n",
            "5\n"
          ]
        }
      ],
      "source": [
        "n =[int(input(\"Digite dois valores na tela\\n\")), int(input()) ]\n",
        "print(form.center(40,\"=\"))\n",
        "print(\"Escolha a opção desejada:\\n[1]somar\\n[2]multiplicar\\n[3]Maior\\n[4]Novos Números\\n[5]Sair\\n\")\n",
        "opc = int(input())\n",
        "form = ''\n",
        "while opc != 5:\n",
        "  if opc == 1:\n",
        "    result = n[0] + n[1]\n",
        "    print(\"O resultado é igual a :\", result)\n",
        "    print(form.center(40,\"=\"))\n",
        "    print(\"Escolha a opção desejada:\\n[1]somar\\n[2]multiplicar\\n[3]Maior\\n[4]Novos Números\\n[5]Sair\\n\")\n",
        "    opc = int(input())\n",
        "\n",
        "  elif opc == 2:\n",
        "    result = n[0] * n[1]\n",
        "    print(\"O resultado é igual a :\", result)\n",
        "    print(form.center(40,\"=\"))\n",
        "    print(\"Escolha a opção desejada:\\n[1]somar\\n[2]multiplicar\\n[3]Maior\\n[4]Novos Números\\n[5]Sair\\n\")\n",
        "    opc = int(input())\n",
        "  elif opc == 3:\n",
        "    if n[0] > n[1]:\n",
        "      print(n[0], \"É o maior número\")\n",
        "      print(form.center(40,\"=\"))\n",
        "      print(\"Escolha a opção desejada:\\n[1]somar\\n[2]multiplicar\\n[3]Maior\\n[4]Novos Números\\n[5]Sair\\n\")\n",
        "      opc = int(input())\n",
        "\n",
        "    elif n[1] > n[0]:\n",
        "      print(n[1], \"É o maior número\")\n",
        "      print(form.center(40,\"=\"))\n",
        "      print(\"Escolha a opção desejada:\\n[1]somar\\n[2]multiplicar\\n[3]Maior\\n[4]Novos Números\\n[5]Sair\\n\")\n",
        "      opc = int(input())\n",
        "\n",
        "    else:\n",
        "      print(\"Ambos são iguais\")\n",
        "      print(form.center(40,\"=\"))\n",
        "      print(\"Escolha a opção desejada:\\n[1]somar\\n[2]multiplicar\\n[3]Maior\\n[4]Novos Números\\n[5]Sair\\n\")\n",
        "      opc = int(input())\n",
        "\n",
        "  elif opc == 4:\n",
        "    n =[int(input(\"Digite dois novos valores na tela\\n\")), int(input()) ]\n",
        "    print(form.center(40,\"=\"))\n",
        "    print(\"Escolha a opção desejada:\\n[1]somar\\n[2]multiplicar\\n[3]Maior\\n[4]Novos Números\\n[5]Sair\\n\")\n",
        "    opc = int(input())\n",
        "  elif opc >= 6:\n",
        "    print(\"Opção Inválida!\\n\")\n",
        "    print(form.center(40,\"=\"))\n",
        "    print(\"Escolha a opção desejada:\\n[1]somar\\n[2]multiplicar\\n[3]Maior\\n[4]Novos Números\\n[5]Sair\\n\")\n",
        "    opc = int(input())\n",
        "\n",
        "\n",
        "\n",
        "\n"
      ]
    },
    {
      "cell_type": "code",
      "execution_count": null,
      "metadata": {
        "colab": {
          "base_uri": "https://localhost:8080/"
        },
        "id": "4HdrvwQwyqYn",
        "outputId": "2bee3432-ee58-4fe9-a61d-064d2de08d10"
      },
      "outputs": [
        {
          "name": "stdout",
          "output_type": "stream",
          "text": [
            "Digite um numero qualquer para saber seu fatorial\n",
            "4\n",
            "========================================\n",
            "3 vezes 4 é igual a 12\n",
            "2 vezes 12 é igual a 24\n",
            "1 vezes 24 é igual a 24\n",
            "========================================\n",
            "\n",
            "O fatorial de 4 é igual a 24\n"
          ]
        }
      ],
      "source": [
        "n = int(input(\"Digite um numero qualquer para saber seu fatorial\\n\"))\n",
        "nVelho = n\n",
        "aux = n\n",
        "formatação = ''\n",
        "print(formatação.center(40,'='))\n",
        "\n",
        "while n > 1:\n",
        "  n -= 1\n",
        "  r = n * aux\n",
        "  print(\"{} vezes {} é igual a {}\". format(n, aux, r))\n",
        "  aux = r\n",
        "\n",
        "print(formatação.center(40,'='))\n",
        "print(\"\\nO fatorial de {} é igual a {}\" .format(nVelho,r))"
      ]
    },
    {
      "cell_type": "code",
      "execution_count": null,
      "metadata": {
        "colab": {
          "base_uri": "https://localhost:8080/"
        },
        "id": "A0JOxlw593j2",
        "outputId": "cb170a73-2a25-493a-8b6b-b4d1658e9184"
      },
      "outputs": [
        {
          "name": "stdout",
          "output_type": "stream",
          "text": [
            "Digite a razão da PA 3\n",
            "Digite o primeiro termo 2\n",
            "O 10 termo é igual a 29\n",
            "O 9 termo é igual a 26\n",
            "O 8 termo é igual a 23\n",
            "O 7 termo é igual a 20\n",
            "O 6 termo é igual a 17\n",
            "O 5 termo é igual a 14\n",
            "O 4 termo é igual a 11\n",
            "O 3 termo é igual a 8\n",
            "O 2 termo é igual a 5\n",
            "O 1 termo é igual a 2\n"
          ]
        }
      ],
      "source": [
        "r = int(input(\"Digite a razão da PA \"))\n",
        "n1 = int(input(\"Digite o primeiro termo \"))\n",
        "numTerm = 11\n",
        "contador = 11\n",
        "while numTerm > 1:\n",
        "  numTerm -= 1\n",
        "  n = n1 + (numTerm - 1) * r\n",
        "  contador -= 1\n",
        "  print(\"O {} termo é igual a {}\" .format(contador, n))"
      ]
    },
    {
      "cell_type": "code",
      "execution_count": null,
      "metadata": {
        "colab": {
          "base_uri": "https://localhost:8080/"
        },
        "id": "P0rxxlBBAhpp",
        "outputId": "17389944-274d-49f7-db38-f75685ff61f8"
      },
      "outputs": [
        {
          "name": "stdout",
          "output_type": "stream",
          "text": [
            "Digite a razão da PA 917\n",
            "Digite o primeiro termo 8\n",
            " o 1 termo é igual a 8\n",
            " o 2 termo é igual a 925\n",
            " o 3 termo é igual a 1842\n",
            " o 4 termo é igual a 2759\n",
            " o 5 termo é igual a 3676\n",
            " o 6 termo é igual a 4593\n",
            " o 7 termo é igual a 5510\n",
            " o 8 termo é igual a 6427\n",
            " o 9 termo é igual a 7344\n",
            " o 10 termo é igual a 8261\n",
            "========================================\n",
            "Você deseja obter mais termos?\n",
            "[S]\n",
            "[N]\n",
            "s\n",
            "========================================\n",
            "Digite quantos termos deseja acrescentar: 5\n",
            " o 11 termo é igual a 9178\n",
            " o 12 termo é igual a 10095\n",
            " o 13 termo é igual a 11012\n",
            " o 14 termo é igual a 11929\n",
            " o 15 termo é igual a 12846\n"
          ]
        }
      ],
      "source": [
        "r = int(input(\"Digite a razão da PA \"))\n",
        "n1 = int(input(\"Digite o primeiro termo \"))\n",
        "an = 1\n",
        "form = ''\n",
        "\n",
        "while an < 11:\n",
        "  n = n1 + (an - 1) * r\n",
        "  print(\" o {} termo é igual a {}\" .format(an,n))\n",
        "  an+= 1\n",
        "  if an == 11:\n",
        "    print(form.center(40,\"=\"))\n",
        "    resposta = input(\"Você deseja obter mais termos?\\n[S]\\n[N]\\n\").strip().lower()\n",
        "    print(form.center(40,\"=\"))\n",
        "    if resposta == 'n':\n",
        "      print(\"Ok!\")\n",
        "    elif resposta == 's':\n",
        "      anNovo = int(input(\"Digite quantos termos deseja acrescentar: \"))\n",
        "      aux = an + anNovo\n",
        "      while an < aux:\n",
        "        n = n1 + (an - 1) * r\n",
        "        print(\" o {} termo é igual a {}\" .format(an,n))\n",
        "        an+= 1\n",
        "\n",
        "    else: print(\"Resposta inválida!\")\n",
        "\n",
        "\n",
        "\n",
        "\n"
      ]
    },
    {
      "cell_type": "code",
      "execution_count": null,
      "metadata": {
        "colab": {
          "base_uri": "https://localhost:8080/"
        },
        "id": "-3EfXBvduR5x",
        "outputId": "ff9dbd41-0813-48f0-9e20-91a24ee6889e"
      },
      "outputs": [
        {
          "name": "stdout",
          "output_type": "stream",
          "text": [
            "------------------------------\n",
            "Quantos termos deseja por na sua sequencia de fibonacci? 10\n",
            "0\n",
            "1\n",
            "1\n",
            "2\n",
            "3\n",
            "5\n",
            "8\n",
            "13\n",
            "21\n",
            "34\n"
          ]
        }
      ],
      "source": [
        "print('-'*30)\n",
        "nt = (int(input(\"Quantos termos deseja por na sua sequencia de fibonacci? \")))\n",
        "t1 = 0\n",
        "t2 = 1\n",
        "print(t1)\n",
        "print(t2)\n",
        "contador = 3\n",
        "while contador <= nt:\n",
        "  t3 = t1 + t2\n",
        "  print(t3)\n",
        "  t1 = t2\n",
        "  t2 = t3\n",
        "  contador += 1\n",
        "\n",
        "\n",
        "\n",
        "\n",
        "\n",
        "\n",
        "\n",
        "\n",
        "\n",
        "\n"
      ]
    },
    {
      "cell_type": "code",
      "execution_count": null,
      "metadata": {
        "colab": {
          "base_uri": "https://localhost:8080/"
        },
        "id": "NmuPQ_Bn5FIc",
        "outputId": "1cf9a4cf-6fa6-47df-8e92-7a8b7842f551"
      },
      "outputs": [
        {
          "name": "stdout",
          "output_type": "stream",
          "text": [
            "Digite qualquer número: \n",
            "Não vou parar de pedir até você digitar 999 2\n",
            "Digite qualquer número: \n",
            "Não vou parar de pedir até você digitar 999 3\n",
            "Digite qualquer número: \n",
            "Não vou parar de pedir até você digitar 999 999\n",
            "Voce digitou 2 números até digitar 999 e sua soma desconsiderando o 990, é igual a 5 \n"
          ]
        }
      ],
      "source": [
        "contador = -1\n",
        "aux = - 999\n",
        "n = 0\n",
        "while n != 999:\n",
        "  n = int(input(\"Digite qualquer número: \\nNão vou parar de pedir até você digitar 999 \"))\n",
        "  contador+= 1\n",
        "  soma = n + aux\n",
        "  aux = soma\n",
        "\n",
        "print(\"Voce digitou {} números até digitar 999 e sua soma desconsiderando o 990, é igual a {} \" .format(contador, aux))\n",
        "\n"
      ]
    },
    {
      "cell_type": "code",
      "execution_count": null,
      "metadata": {
        "colab": {
          "base_uri": "https://localhost:8080/"
        },
        "id": "rYxXjU_p7Ijb",
        "outputId": "e60552cc-c568-4d63-dfbe-d7f141e69354"
      },
      "outputs": [
        {
          "name": "stdout",
          "output_type": "stream",
          "text": [
            "Voce quer digitar um novo valor?\n",
            "[Não]\n",
            "[Sim]\n",
            "\n",
            "sim\n",
            "----------------------------------------\n",
            "Digite um valor inteiro: 20\n",
            "----------------------------------------\n",
            "Voce quer digitar um novo valor?\n",
            "[Não]\n",
            "[Sim]\n",
            "\n",
            "sim\n",
            "----------------------------------------\n",
            "Digite um valor inteiro: 40\n",
            "----------------------------------------\n",
            "Voce quer digitar um novo valor?\n",
            "[Não]\n",
            "[Sim]\n",
            "\n",
            "sim\n",
            "----------------------------------------\n",
            "Digite um valor inteiro: 10\n",
            "----------------------------------------\n",
            "Voce quer digitar um novo valor?\n",
            "[Não]\n",
            "[Sim]\n",
            "\n",
            "sim\n",
            "----------------------------------------\n",
            "Digite um valor inteiro: 30\n",
            "----------------------------------------\n",
            "Voce quer digitar um novo valor?\n",
            "[Não]\n",
            "[Sim]\n",
            "\n",
            "não\n",
            "----------------------------------------\n",
            "Programa encerrado!\n",
            "A média dos valores ficou 100 dividido por 4, que é igual a 25.0\n",
            "E o maior valor entre eles é:  40\n",
            "E o maior valor entre eles é:  30\n"
          ]
        }
      ],
      "source": [
        "resposta = input(\"Voce quer digitar um novo valor?\\n[Não]\\n[Sim]\\n\\n\").strip().lower()\n",
        "print(\"-\" * 40)\n",
        "comparador = menorN = maiorN = contador = aux = 0\n",
        "\n",
        "\n",
        "while resposta == 'sim':\n",
        "  n = int(input(\"Digite um valor inteiro: \"))\n",
        "  print(\"-\" * 40)\n",
        "  soma = n + aux\n",
        "  aux = soma\n",
        "  contador+= 1\n",
        "  resposta = input(\"Voce quer digitar um novo valor?\\n[Não]\\n[Sim]\\n\\n\").strip().lower()\n",
        "  print(\"-\" * 40)\n",
        "\n",
        "  if contador == 1:\n",
        "    maiorN = menorN = n\n",
        "  else:\n",
        "    if n > maiorN:\n",
        "      maiorN = n\n",
        "    if n <= menorN:\n",
        "        menorN = n\n",
        "\n",
        "\n",
        "if resposta == \"não\" or resposta == \"nao\":\n",
        "  print(\"Programa encerrado!\")\n",
        "  if contador > 0:\n",
        "    print(\"A média dos valores ficou {} dividido por {}, que é igual a {}\" .format(soma, contador, soma / contador))\n",
        "    print(\"E o maior valor entre eles é: \", maiorN)\n",
        "    print(\"E o menor valor entre eles é: \", menorN)\n",
        "else:\n",
        "  print(\"Resposta inválida\")\n",
        "\n",
        "\n",
        "\n"
      ]
    },
    {
      "cell_type": "code",
      "execution_count": null,
      "metadata": {
        "colab": {
          "base_uri": "https://localhost:8080/"
        },
        "id": "uz3gvRtMUIIt",
        "outputId": "7107cc0d-aa84-435a-b62c-7f6e60701d0e"
      },
      "outputs": [
        {
          "name": "stdout",
          "output_type": "stream",
          "text": [
            " duas casas decimais: 23.33\n",
            "a variavel 23.33333 é merda\n"
          ]
        }
      ],
      "source": [
        "x = 23.33333\n",
        "print(\" duas casas decimais: {:.2f}\" .format(x))\n",
        "\n",
        "print(f\"a variavel {x} é merda\")\n"
      ]
    },
    {
      "cell_type": "code",
      "execution_count": null,
      "metadata": {
        "colab": {
          "base_uri": "https://localhost:8080/"
        },
        "id": "wbWONBcSYznf",
        "outputId": "570a6183-d593-4c2f-87bc-120fb6d4754d"
      },
      "outputs": [
        {
          "name": "stdout",
          "output_type": "stream",
          "text": [
            "Digite um número, [999 para parar] 3\n",
            "Digite um número, [999 para parar] 2\n",
            "Digite um número, [999 para parar] 999\n",
            "a soma entre eles é igual a 5, e foram digitados 2 números \n"
          ]
        }
      ],
      "source": [
        "n = int(input(\"Digite um número, [999 para parar] \"))\n",
        "contador = soma = 0\n",
        "\n",
        "while n != 999:\n",
        "\n",
        "  soma += n\n",
        "  contador += 1\n",
        "  n = int(input(\"Digite um número, [999 para parar] \"))\n",
        "\n",
        "print(f\"a soma entre eles é igual a {soma}, e foram digitados {contador} números \")\n",
        "\n"
      ]
    },
    {
      "cell_type": "code",
      "execution_count": null,
      "metadata": {
        "colab": {
          "base_uri": "https://localhost:8080/"
        },
        "id": "RNV-_CohjCQm",
        "outputId": "cf1d7dba-bb75-4955-f4cf-b6169094a9ec"
      },
      "outputs": [
        {
          "name": "stdout",
          "output_type": "stream",
          "text": [
            "Quer ver a tabuada de qual valor? 3\n",
            "----------------------------------------\n",
            "3 vezes 0 é igual a 0\n",
            "3 vezes 1 é igual a 3\n",
            "3 vezes 2 é igual a 6\n",
            "3 vezes 3 é igual a 9\n",
            "3 vezes 4 é igual a 12\n",
            "3 vezes 5 é igual a 15\n",
            "3 vezes 6 é igual a 18\n",
            "3 vezes 7 é igual a 21\n",
            "3 vezes 8 é igual a 24\n",
            "3 vezes 9 é igual a 27\n",
            "3 vezes 10 é igual a 30\n",
            "----------------------------------------\n",
            "Quer ver a tabuada de qual valor? -3\n",
            "Programa encerrado!\n"
          ]
        }
      ],
      "source": [
        "tabuada = int(input(\"Quer ver a tabuada de qual valor? \"))\n",
        "print('-' * 40)\n",
        "r = n = 0\n",
        "\n",
        "while n < 11:\n",
        "  if tabuada < 0:\n",
        "    print(\"Programa encerrado!\")\n",
        "    break\n",
        "  r = tabuada * n\n",
        "  print(f\"{tabuada} vezes {n} é igual a {r}\")\n",
        "  if n == 10:\n",
        "    print(\"-\" * 40)\n",
        "    tabuada = int(input(\"Quer ver a tabuada de qual valor? \"))\n",
        "    n = 0\n",
        "  n+= 1\n",
        "\n"
      ]
    },
    {
      "cell_type": "code",
      "execution_count": null,
      "metadata": {
        "colab": {
          "base_uri": "https://localhost:8080/"
        },
        "id": "v4JHixjPk8c5",
        "outputId": "ca6d04ea-e2c9-4465-9310-c49246c662a0"
      },
      "outputs": [
        {
          "name": "stdout",
          "output_type": "stream",
          "text": [
            "Digite [PAR] ou [IMPAR] para jogar com o pc par\n",
            "Digite um número escolhido 4\n",
            "O numero escolhido pelo pc foi 6, 4 + 6 = 10\n",
            "Parabéns, você ganhou!\n",
            "========================================\n",
            "Digite [PAR] ou [IMPAR] para jogar com o pc par\n",
            "Digite um número escolhido 8\n",
            "O numero escolhido pelo pc foi 0, 8 + 0 = 8\n",
            "Parabéns, você ganhou!\n",
            "========================================\n",
            "Digite [PAR] ou [IMPAR] para jogar com o pc par\n",
            "Digite um número escolhido 9\n",
            "O numero escolhido pelo pc foi 2, 9 + 2 = 11\n",
            "Você perdeu!\n",
            "VocÊ ganhou 2 vezes consecutivas! \n"
          ]
        }
      ],
      "source": [
        "import random\n",
        "contador = 0\n",
        "escolha = input(\"Digite [PAR] ou [IMPAR] para jogar com o pc \").strip().lower()\n",
        "num = int(input(\"Digite um número escolhido \"))\n",
        "\n",
        "while True:\n",
        "  opc = random.randint(0,11)\n",
        "  soma = num + opc\n",
        "  print(\"O numero escolhido pelo pc foi {}, {} + {} = {}\" .format(opc, num, opc, soma))\n",
        "  if escolha == \"par\" and soma % 2 != 0:\n",
        "    print(\"Você perdeu!\")\n",
        "    break\n",
        "  elif escolha == \"impar\" or escolha == \"ímpar\" and soma % 2 == 0:\n",
        "    print(\"Você perdeu!\")\n",
        "    break\n",
        "  elif escolha == \"par\" and opc % 2 == 0:\n",
        "    print(\"Parabéns, você ganhou!\")\n",
        "    contador += 1\n",
        "    print(\"=\" * 40)\n",
        "    escolha = input(\"Digite [PAR] ou [IMPAR] para jogar com o pc \").strip().lower()\n",
        "    num = int(input(\"Digite um número escolhido \"))\n",
        "  elif escolha == \"impar\" or escolha == \"ímpar\" and opc % 2 != 0:\n",
        "    print(\"Parabéns, você ganhou!\")\n",
        "    contador += 1\n",
        "    print(\"=\", * 40)\n",
        "    escolha = input(\"Digite [PAR] ou [IMPAR] para jogar com o pc \").strip().lower()\n",
        "    num = int(input(\"Digite um número escolhido \"))\n",
        "  else:\n",
        "    print(\"Digita direito, irmão!\")\n",
        "    escolha = input(\"Digite [PAR] ou [IMPAR] para jogar com o pc \").strip().lower()\n",
        "\n",
        "\n",
        "print(f\"VocÊ ganhou {contador} vezes consecutivas! \")"
      ]
    },
    {
      "cell_type": "code",
      "execution_count": null,
      "metadata": {
        "colab": {
          "base_uri": "https://localhost:8080/"
        },
        "id": "azA2cnjboVYO",
        "outputId": "2bf38068-6b38-4f28-ed65-8c50be6ec78a"
      },
      "outputs": [
        {
          "name": "stdout",
          "output_type": "stream",
          "text": [
            "CADASTRE UMA PESSOA\n",
            "----------------------------------------\n",
            "Qual é o seu sexo?\n",
            "Digite [M] para masculino, [F] para feminino f\n",
            "Qual é a sua idade? Digite um número inteiro\n",
            "30\n",
            "Você quer continuar?Digite [SIM] para continuar ou qualquer tecla para finalizar\n",
            "sim\n",
            "========================================\n",
            "CADASTRE UMA PESSOA\n",
            "----------------------------------------\n",
            "Qual é o seu sexo?\n",
            "Digite [M] para masculino, [F] para feminino f\n",
            "Qual é a sua idade? Digite um número inteiro\n",
            "10\n",
            "Você quer continuar?Digite [SIM] para continuar ou qualquer tecla para finalizar\n",
            "n\n",
            "========================================\n",
            "1 pessoas possuem mais de 18 anos, 0 homens foram cadastrados, e 1 mulheres possuem menos de 20 anos\n"
          ]
        }
      ],
      "source": [
        "resposta = \"sim\"\n",
        "contador = contadorHomens = contadorMulheres = 0\n",
        "\n",
        "while resposta == \"sim\":\n",
        "  print(\"CADASTRE UMA PESSOA\")\n",
        "  print(\"-\" * 40)\n",
        "  sexo = input(\"Qual é o seu sexo?\\nDigite [M] para masculino, [F] para feminino \").strip().upper()\n",
        "  if sexo != \"F\" and sexo != \"M\":\n",
        "    print(\"Sexo Inválido, programa finalizado!\")\n",
        "    break\n",
        "  idade = int(input(\"Qual é a sua idade? Digite um número inteiro\\n\"))\n",
        "  if idade >= 18:\n",
        "    contador += 1\n",
        "  if sexo == \"M\":\n",
        "    contadorHomens += 1\n",
        "  if sexo == \"F\" and idade <= 20:\n",
        "    contadorMulheres += 1\n",
        "  resposta = input(\"Você quer continuar?Digite [SIM] para continuar ou qualquer tecla para finalizar\\n\")\n",
        "  print(\"=\" * 40)\n",
        "\n",
        "print(f\"{contador} pessoas possuem mais de 18 anos, {contadorHomens} homens foram cadastrados, e {contadorMulheres}\"\n",
        "\" mulheres possuem menos de 20 anos\")\n",
        "\n"
      ]
    },
    {
      "cell_type": "code",
      "execution_count": null,
      "metadata": {
        "colab": {
          "base_uri": "https://localhost:8080/"
        },
        "id": "BveSuFC3K98E",
        "outputId": "ad6aad57-3889-4a3b-df71-0eb3d64a3296"
      },
      "outputs": [
        {
          "output_type": "stream",
          "name": "stdout",
          "text": [
            "Cadastrando um produto\n",
            "========================================\n",
            "Digite o nome do produtojean\n",
            "Digite o preço do produto50\n",
            "Você quer continuar? Digite [Sim] para continuar ou qualquer outra tecla para finalizarsim\n",
            "Cadastrando um produto\n",
            "========================================\n",
            "Digite o nome do produtosamuel\n",
            "Digite o preço do produto20\n",
            "Você quer continuar? Digite [Sim] para continuar ou qualquer outra tecla para finalizarsim\n",
            "Cadastrando um produto\n",
            "========================================\n",
            "Digite o nome do produtocandido\n",
            "Digite o preço do produto60\n",
            "Você quer continuar? Digite [Sim] para continuar ou qualquer outra tecla para finalizarsim\n",
            "Cadastrando um produto\n",
            "========================================\n",
            "Digite o nome do produtohenrique\n",
            "Digite o preço do produto10\n",
            "Você quer continuar? Digite [Sim] para continuar ou qualquer outra tecla para finalizarsim\n",
            "Cadastrando um produto\n",
            "========================================\n",
            "Digite o nome do produton\n",
            "Digite o preço do produto100000\n",
            "Você quer continuar? Digite [Sim] para continuar ou qualquer outra tecla para finalizarn\n",
            "O total gasto na compra é 100140.0, 1 produtos custam mais de 1000 reais, e 10.0 é o menor preço\n"
          ]
        }
      ],
      "source": [
        "resposta = \"sim\"\n",
        "total = contadorP = 0\n",
        "ProdBar = \"\"\n",
        "\n",
        "while resposta == \"sim\":\n",
        "  print(\"Cadastrando um produto\")\n",
        "  print(\"=\" * 40)\n",
        "  nome = input(\"Digite o nome do produto\")\n",
        "  preço = float(input(\"Digite o preço do produto\"))\n",
        "  total += preço\n",
        "  contadorP+= 1\n",
        "\n",
        "  if preço >= 1000:\n",
        "    contador += 1\n",
        "\n",
        "  if contadorP == 1:\n",
        "    menorP = preço\n",
        "    prodBar = nome\n",
        "  elif preço < menorP:\n",
        "    menorP = preço\n",
        "    prodBar = nome\n",
        "\n",
        "  resposta = input(\"Você quer continuar? Digite [Sim] para continuar ou qualquer outra tecla para finalizar\").strip().lower()\n",
        "\n",
        "print(f\"O total gasto na compra é {total}, {contador} produtos custam mais de 1000 reais, e {nome} possui o menor preço\")\n",
        "\n"
      ]
    },
    {
      "cell_type": "code",
      "execution_count": null,
      "metadata": {
        "colab": {
          "base_uri": "https://localhost:8080/"
        },
        "id": "4_NM4S43O0qy",
        "outputId": "56bc6967-7ea7-4d91-968c-4e3dd204fb1d"
      },
      "outputs": [
        {
          "output_type": "stream",
          "name": "stdout",
          "text": [
            "Qual será o valor sacado? -- > 89\n",
            "foram impressas 1 cédulas de 50\n",
            "foram impressas 1 cédulas de 20\n",
            "foram impressas 1 cédulas de 10\n",
            "foram impressas 9 cédulas de 1\n"
          ]
        }
      ],
      "source": [
        "saque = int(input(\"Qual será o valor sacado? -- > \"))\n",
        "\n",
        "\n",
        "ced = 50\n",
        "totced = 0\n",
        "\n",
        "while True:\n",
        "  if saque >= ced:\n",
        "    saque -= ced\n",
        "    totced += 1\n",
        "  else:\n",
        "    if totced > 0:\n",
        "      print(f\"foram impressas {totced} cédulas de {ced}\")\n",
        "    if ced == 50:\n",
        "      ced = 20\n",
        "    elif ced == 20:\n",
        "      ced = 10\n",
        "    elif ced == 10:\n",
        "      ced = 1\n",
        "    totced = 0\n",
        "    if saque == 0:\n",
        "      break\n",
        "\n",
        "\n"
      ]
    },
    {
      "cell_type": "markdown",
      "source": [
        "MUNDO 3\n",
        "\n",
        "MUNDO 3\n",
        "\n",
        "MUNDO 3\n"
      ],
      "metadata": {
        "id": "9IYnRzP6ZgWV"
      }
    },
    {
      "cell_type": "code",
      "source": [
        "tupla = \"zero\", \"um\", \"dois\", \"três\", \"quatro\", \"cinco\", \"seis\", \"sete\", \"oito\", \"nove\", \"dez\",\"onze\",\"doze\", \"treze\", \"quatorze\", \"quinze\", \"dezesseis\", \"dezessete\", \"dezoito\", \"dezenove\", \"vinte\"\n",
        "\n",
        "num = int(input(\"Digite o número que deseja obter por extenso, de 0 até 20\\n\"))\n",
        "\n",
        "while True:\n",
        "  if num > len(tupla):\n",
        "    print(\"Digite um número válido\")\n",
        "    num = int(input(\"Digite o número que deseja obter por extenso, de 0 até 20\\n\"))\n",
        "  else:\n",
        "    print(tupla[num])\n",
        "    break\n",
        "\n",
        "\n",
        "\n",
        "\n",
        ""
      ],
      "metadata": {
        "colab": {
          "base_uri": "https://localhost:8080/"
        },
        "id": "-RfcZFN4WSCk",
        "outputId": "bc26ac3e-93f6-4133-98ad-e38e713c8d4f"
      },
      "execution_count": null,
      "outputs": [
        {
          "output_type": "stream",
          "name": "stdout",
          "text": [
            "Digite o número que deseja obter por extenso, de 0 até 20\n",
            "40\n",
            "Digite um número válido\n",
            "Digite o número que deseja obter por extenso, de 0 até 20\n",
            "3\n",
            "tres\n"
          ]
        }
      ]
    },
    {
      "cell_type": "code",
      "source": [
        "# imprimir os 20 colocados do futebol, vai tomar no cu guanabara\n",
        "\n",
        "tupla = (\"zero\", \"um\", \"dois\", \"três\", \"quatro\", \"cinco\", \"seis\", \"sete\", \"oito\", \"nove\", \"dez\",\"onze\",\"doze\",\n",
        "\"treze\", \"quatorze\", \"quinze\", \"dezesseis\", \"dezessete\", \"dezoito\", \"dezenove\", \"vinte\")\n",
        "i = 0\n",
        "\n",
        "for i in range(0,5):\n",
        "  print(f\"O {i} colocado é : {tupla[i]}\")\n",
        "for i in range (17, 21):\n",
        "  print(f\"O {i} colocado é: {tupla[i]}\")\n",
        "#Ordem alfabética\n",
        "print(\"A tupla em ordem alfabética é igual a :\", sorted(tupla))\n",
        "\n",
        "\n",
        "\n",
        "\n"
      ],
      "metadata": {
        "colab": {
          "base_uri": "https://localhost:8080/"
        },
        "id": "knWNBhXFwCJe",
        "outputId": "3751344f-55c8-4a76-9c31-a40eda58bdd2"
      },
      "execution_count": null,
      "outputs": [
        {
          "output_type": "stream",
          "name": "stdout",
          "text": [
            "O 0 colocado é : zero\n",
            "O 1 colocado é : um\n",
            "O 2 colocado é : dois\n",
            "O 3 colocado é : três\n",
            "O 4 colocado é : quatro\n",
            "O 17 colocado é: dezessete\n",
            "O 18 colocado é: dezoito\n",
            "O 19 colocado é: dezenove\n",
            "O 20 colocado é: vinte\n",
            "A tupla em ordem alfabética é igual a : ['cinco', 'dez', 'dezenove', 'dezesseis', 'dezessete', 'dezoito', 'dois', 'doze', 'nove', 'oito', 'onze', 'quatorze', 'quatro', 'quinze', 'seis', 'sete', 'treze', 'três', 'um', 'vinte', 'zero']\n"
          ]
        }
      ]
    },
    {
      "cell_type": "code",
      "source": [
        "import random\n",
        "tupla = random.randint(0,99), random.randint(0,99), random.randint(0,99), random.randint(0,99), random.randint(0,99)\n",
        "menorN = maiorN = 0\n",
        "print(tupla)\n",
        "\n",
        "for i in range (0,5):\n",
        "  if i == 0:\n",
        "    menorN = maiorN = tupla[i]\n",
        "\n",
        "  elif tupla[i] < menorN:\n",
        "    menorN = tupla[i]\n",
        "  elif tupla[i] > maiorN:\n",
        "    maiorN = tupla[i]\n",
        "\n",
        "print(f\"O maior número é : {maiorN}\\ne o menor é: {menorN}\")\n",
        "\n",
        "\n",
        "\n",
        "\n",
        "#  APENAS PARA LISTAS\n",
        "#tupla = []\n",
        "#for i in range (0,5):\n",
        " # tupla[i] = tupla.append(i)\n",
        "  #tupla[i] = random.randint(0,99)\n",
        "  #print(tupla[i])\n",
        "\n",
        "\n",
        "\n",
        "\n"
      ],
      "metadata": {
        "colab": {
          "base_uri": "https://localhost:8080/"
        },
        "id": "8YldSsNSyTWP",
        "outputId": "1e617e39-9c67-4811-f282-e171fa5fb601"
      },
      "execution_count": null,
      "outputs": [
        {
          "output_type": "stream",
          "name": "stdout",
          "text": [
            "(46, 37, 71, 17, 28)\n",
            "O maior número é : 71\n",
            "e o menor é: 17\n"
          ]
        }
      ]
    },
    {
      "cell_type": "code",
      "source": [
        "tupla = int(input(\"Digite 4 valores inteiros: \\n\")), int(input()), int(input()), int(input())\n",
        "contador = 0\n",
        "\n",
        "for i in range(0,4):\n",
        "  if tupla[i] == 9:\n",
        "    contador+= 1\n",
        "\n",
        "print(f\"O número 9 foi encontrado {contador} vezes.\")\n",
        "print(\"=\" * 40)\n",
        "print(\"=\" * 40)\n",
        "\n",
        "for i in range(0,4):\n",
        "  if tupla[i] == 3:\n",
        "    print(f\"O valor {tupla[i]} se encontra na posição {i}\")\n",
        "\n",
        "print(\"=\" * 40)\n",
        "print(\"=\" * 40)\n",
        "print(\"E os números pares foram: \")\n",
        "for i in range(0,4):\n",
        "    if tupla[i] % 2 == 0:\n",
        "      print(tupla[i])\n",
        "    if tupla[i] % 2 != 0:\n",
        "      contador+= 1\n",
        "    if contador == 4:\n",
        "      print(\"Nenhum número par encontrado.\")"
      ],
      "metadata": {
        "id": "UJfkVCLj0Cck",
        "colab": {
          "base_uri": "https://localhost:8080/"
        },
        "outputId": "5479f67a-6bc8-4d06-8295-a8890b269768"
      },
      "execution_count": null,
      "outputs": [
        {
          "output_type": "stream",
          "name": "stdout",
          "text": [
            "Digite 4 valores inteiros: \n",
            "9\n",
            "3\n",
            "3\n",
            "1\n",
            "O número 9 foi encontrado 1 vezes.\n",
            "========================================\n",
            "========================================\n",
            "O valor 3 se encontra na posição 1\n",
            "O valor 3 se encontra na posição 2\n",
            "========================================\n",
            "========================================\n",
            "E os números pares foram: \n",
            "Nenhum número par encontrado\n"
          ]
        }
      ]
    },
    {
      "cell_type": "code",
      "source": [
        "resposta = ''\n",
        "i = 0\n",
        "lista = []\n",
        "\n",
        "while resposta != \"sim\":\n",
        "  lista.append(i)\n",
        "  lista[i] =  input(\"Digite o nome do produto\\n\")\n",
        "  i+= 1\n",
        "  lista.append(i)\n",
        "  lista[i] =  input(\"Digite o seu respectivo preço\\n\")\n",
        "  print(\"=\" * 40)\n",
        "  resposta = input(\"Deseja sair? Digite [Sim] se desejar sair, ou qualquer tecla para continuar\\n\").strip().lower()\n",
        "  print(\"=\" * 40)\n",
        "\n",
        "  if resposta == \"sim\":\n",
        "    break\n",
        "  i += 1\n",
        "\n",
        "\n",
        "print(\"=\" * 40)\n",
        "print(\"TABELA IMPRESSA:\")\n",
        "print(\"|NOME| \" + \"=\" * 10 + \" |PREÇO|\")\n",
        "print(\"=\" * 40)\n",
        "for i in range (0,len(lista)):\n",
        "  if i % 2 == 0 or i == 0:\n",
        "    print(f\"|{lista[i]}| -------- |{lista[i + 1]}|\")\n",
        "\n",
        "\n"
      ],
      "metadata": {
        "colab": {
          "base_uri": "https://localhost:8080/"
        },
        "id": "R3aw_d-NZ6hv",
        "outputId": "59a8c91f-d073-4bb3-de70-970719711152"
      },
      "execution_count": 4,
      "outputs": [
        {
          "output_type": "stream",
          "name": "stdout",
          "text": [
            "Digite o nome do produto\n",
            "computador\n",
            "Digite o seu respectivo preço\n",
            "30\n",
            "========================================\n",
            "Deseja sair? Digite [Sim] se desejar sair, ou qualquer tecla para continuar\n",
            "sim\n",
            "========================================\n",
            "========================================\n",
            "TABELA IMPRESSA:\n",
            "|NOME| ========== |PREÇO|\n",
            "========================================\n",
            "|computador| -------- |30|\n"
          ]
        }
      ]
    },
    {
      "cell_type": "code",
      "source": [
        "tupla = \"barata\", \"rato\", \"gato\", \"cachorro\"\n",
        "\n",
        "\n",
        "for i in range (0,len(tupla)):\n",
        "\n",
        "  print(f\"A palavra {tupla[i]}:\")\n",
        "  if tupla[i].find(\"a\") >= 0:\n",
        "    print(\"Possui a vogal 'A' \")\n",
        "  if tupla[i].find(\"e\") >= 0:\n",
        "    print(\"Possui a vogal 'E' \")\n",
        "  if tupla[i].find(\"i\") >= 0:\n",
        "    print(\"Possui a vogal 'I' \")\n",
        "  if tupla[i].find(\"o\") >= 0:\n",
        "    print(\"Possui a vogal 'O' \")\n",
        "  if tupla[i].find(\"u\") >= 0:\n",
        "    print(\"Possui a vogal 'U' \")\n",
        "\n"
      ],
      "metadata": {
        "colab": {
          "base_uri": "https://localhost:8080/"
        },
        "id": "AqlFQ0_tzELI",
        "outputId": "4ba3cf87-d7d4-4307-9c26-0e64c41d539d"
      },
      "execution_count": 2,
      "outputs": [
        {
          "output_type": "stream",
          "name": "stdout",
          "text": [
            "A palavra barata:\n",
            "Possui a vogal 'A' \n",
            "A palavra rato:\n",
            "Possui a vogal 'A' \n",
            "Possui a vogal 'O' \n",
            "A palavra gato:\n",
            "Possui a vogal 'A' \n",
            "Possui a vogal 'O' \n",
            "A palavra cachorro:\n",
            "Possui a vogal 'A' \n",
            "Possui a vogal 'O' \n"
          ]
        }
      ]
    },
    {
      "cell_type": "code",
      "source": [
        "lista = [int(input(\"Digite 5 valores inteiros\\n\")), int(input()), int(input()), int(input()), int(input())]\n",
        "print(\"=\" * 40)\n",
        "print(\"=\" * 40)\n",
        "\n",
        "i = 0\n",
        "\n",
        "# minimo = min(lista)\n",
        "maximo = max(lista)\n",
        "minlista = min(lista)\n",
        "for i in range(0,len(lista)):\n",
        "  if maximo == lista[i]:\n",
        "    print(f\"|{maximo}|, que é o maximo, está na(s) posição(ões): |{i}|\")\n",
        "  if minlista == lista[i]:\n",
        "    print(f\"|{minlista}|, que é o mínimo, está na(s) posição(ões): |{i}|\")\n",
        "\n",
        "\n"
      ],
      "metadata": {
        "colab": {
          "base_uri": "https://localhost:8080/"
        },
        "id": "fQCIsyep-nCM",
        "outputId": "e26bb387-e184-4e61-a4bb-12409a790254"
      },
      "execution_count": null,
      "outputs": [
        {
          "output_type": "stream",
          "name": "stdout",
          "text": [
            "Digite 5 valores inteiros\n",
            "5\n",
            "9\n",
            "12\n",
            "3\n",
            "1\n",
            "========================================\n",
            "========================================\n",
            "|12|, que é o maximo, está na(s) posição(ões): |2|\n",
            "|1|, que é o mínimo, está na(s) posição(ões): |4|\n"
          ]
        }
      ]
    },
    {
      "cell_type": "code",
      "source": [
        "# tudo isso poderia ser resolvido com um if n not in: Digite um novo valor...\n",
        "\n",
        "\n",
        "import random\n",
        "resposta = \"sim\"\n",
        "i = j = -1\n",
        "contador = 0\n",
        "userList = []\n",
        "\n",
        "while resposta == \"sim\":\n",
        "  userList.append(int(input(\"Digite um valor inteiro\\n\")))\n",
        "  resposta = str(input(\"Digite [Sim] para continuar ou qualquer tecla para sair\\n\")).strip().lower()\n",
        "  print(\"=\" * 40)\n",
        "\n",
        "pcList = [random.randint(1,10), random.randint(1,10), random.randint(1,10), random.randint(1,10), random.randint(1,10)]\n",
        "sortedUserList = sorted(userList)\n",
        "\n",
        "print(\"Lista origninal: \", pcList)\n",
        "print(\"Valores digitados em ordem crescente: \", sortedUserList)\n",
        "print(\"=\" * 40)\n",
        "\n",
        "for i in range(0, len(userList)):\n",
        "  pcList.append(userList[i])\n",
        "  contador += 1\n",
        "  for j in range(0,len(pcList) - contador):\n",
        "    if pcList[j] == userList[i]:\n",
        "      print(\"Numero\", pcList[j], \"Não adicionado por já haver antes.\")\n",
        "      pcList.pop()\n",
        "      contador -= 1\n",
        "\n",
        "print(\"=\" * 40)\n",
        "sortedPcList = sorted(pcList)\n",
        "print(pcList)\n",
        "print(\"Lista final em ordem crescente: \", sortedPcList)\n",
        "\n",
        "\n"
      ],
      "metadata": {
        "colab": {
          "base_uri": "https://localhost:8080/"
        },
        "id": "zQa0PHjV8v74",
        "outputId": "79205119-527e-478b-d932-8b6896dd959f"
      },
      "execution_count": null,
      "outputs": [
        {
          "output_type": "stream",
          "name": "stdout",
          "text": [
            "Digite um valor inteiro\n",
            "4\n",
            "Digite [Sim] para continuar ou qualquer tecla para sair\n",
            "sim\n",
            "========================================\n",
            "Digite um valor inteiro\n",
            "7\n",
            "Digite [Sim] para continuar ou qualquer tecla para sair\n",
            "sim\n",
            "========================================\n",
            "Digite um valor inteiro\n",
            "6\n",
            "Digite [Sim] para continuar ou qualquer tecla para sair\n",
            "nao\n",
            "========================================\n",
            "lista origninal:  [10, 1, 7, 5, 6]\n",
            "valores digitados em ordem cresce:  [4, 6, 7]\n",
            "========================================\n",
            "Numero 7 Não adicionado por já haver antes.\n",
            "Numero 6 Não adicionado por já haver antes.\n",
            "========================================\n",
            "[10, 1, 7, 5, 6, 4]\n",
            "Lista final em ordem cresce:  [1, 4, 5, 6, 7, 10]\n"
          ]
        }
      ]
    },
    {
      "cell_type": "code",
      "source": [
        "userList = [int(input(\"Digite 5 números inteiros\\n\")), int(input()), int(input()), int(input()), int(input())]\n",
        "novaLista = []\n",
        "\n",
        "print(\"=\" * 40)\n",
        "\n",
        "for i in range(0, len(userList)):\n",
        "  if i == 0:\n",
        "    novaLista.append(userList[i])\n",
        "  elif userList[i] > novaLista[i - 1]:\n",
        "    novaLista.append(userList[i])\n",
        "  else:\n",
        "    for j in range(0, len(novaLista)):\n",
        "      if userList[i] <= novaLista[j]:\n",
        "        novaLista.insert(j, userList[i])\n",
        "        break\n",
        "\n",
        "\n",
        "\n",
        "print(novaLista)\n",
        "\n",
        "\n",
        "\n",
        "\n",
        "\n",
        "\n",
        "\n",
        "\n",
        "\n"
      ],
      "metadata": {
        "id": "jsfekVeLFiXQ",
        "colab": {
          "base_uri": "https://localhost:8080/"
        },
        "outputId": "a0bae901-f3d5-4de7-db23-586901763ac9"
      },
      "execution_count": null,
      "outputs": [
        {
          "output_type": "stream",
          "name": "stdout",
          "text": [
            "Digite 5 números inteiros\n",
            "3\n",
            "20\n",
            "1\n",
            "8\n",
            "5\n",
            "========================================\n",
            "[1, 3, 5, 8, 20]\n"
          ]
        }
      ]
    },
    {
      "cell_type": "code",
      "source": [
        "resposta = \"sim\"\n",
        "userList = []\n",
        "\n",
        "while resposta == \"sim\":\n",
        "  userList.append(int(input(\"Digite um número inteiro\\n\")))\n",
        "  print(\"-\" * 40)\n",
        "  resposta = input(\"Digite [Sim] para continuar ou qualquer tecla para finalizar\").strip().lower()\n",
        "  print(\"=\" * 40)\n",
        "  print(\"=\" * 40)\n",
        "\n",
        "\n",
        "print(\"A lista digitada é:\", userList)\n",
        "print(\"A lista possui: \",len(userList), \" Elementos\")\n",
        "userList.sort(reverse = True)\n",
        "print(userList)\n",
        "\n",
        "if 5 in userList:\n",
        "  print(\"O valor 5 foi digitado na lista\")\n",
        "\n",
        "\n",
        "\n"
      ],
      "metadata": {
        "colab": {
          "base_uri": "https://localhost:8080/"
        },
        "id": "wEPDFiS8OdfS",
        "outputId": "468fc013-8adc-41ed-cc7d-9f15918d3e4c"
      },
      "execution_count": null,
      "outputs": [
        {
          "output_type": "stream",
          "name": "stdout",
          "text": [
            "Digite um número inteiro\n",
            "5\n",
            "Digite [Sim] para continuar ou qualquer tecla para finalizarsim\n",
            "Digite um número inteiro\n",
            "9\n",
            "Digite [Sim] para continuar ou qualquer tecla para finalizarsim\n",
            "Digite um número inteiro\n",
            "1\n",
            "Digite [Sim] para continuar ou qualquer tecla para finalizarsim\n",
            "Digite um número inteiro\n",
            "6\n",
            "Digite [Sim] para continuar ou qualquer tecla para finalizarsim\n",
            "Digite um número inteiro\n",
            "15\n",
            "Digite [Sim] para continuar ou qualquer tecla para finalizarnao\n",
            "A lista digitada é: [5, 9, 1, 6, 15]\n",
            "A lista possui:  5  Elementos\n",
            "[15, 9, 6, 5, 1]\n",
            "O valor 5 foi digitado na lista\n"
          ]
        }
      ]
    },
    {
      "cell_type": "code",
      "source": [
        "resposta = 'sim'\n",
        "i = 0\n",
        "\n",
        "lista = []\n",
        "listaPar = []\n",
        "listaImpar = []\n",
        "\n",
        "while resposta == \"sim\":\n",
        "  lista.append(int(input(\"Digite um número inteiro\\n\")))\n",
        "  print(\"-\" * 40)\n",
        "  resposta = input(\"Digite [Sim] para continuar ou qualquer tecla para finalizar\\n\").strip().lower()\n",
        "  print(\"=\" * 40)\n",
        "  print(\"=\" * 40)\n",
        "\n",
        "for i in range(0, len(lista)):\n",
        "  if lista[i] % 2 == 0 or lista[i] == 0:\n",
        "    listaPar.append(lista[i])\n",
        "  else:\n",
        "    listaImpar.append(lista[i])\n",
        "\n",
        "print(lista)\n",
        "print(listaPar)\n",
        "print(listaImpar)"
      ],
      "metadata": {
        "colab": {
          "base_uri": "https://localhost:8080/"
        },
        "id": "Sb3BsdgLYexj",
        "outputId": "c3eba173-cab1-42fe-e593-5bce29478233"
      },
      "execution_count": null,
      "outputs": [
        {
          "output_type": "stream",
          "name": "stdout",
          "text": [
            "Digite um número inteiro\n",
            "4\n",
            "----------------------------------------\n",
            "Digite [Sim] para continuar ou qualquer tecla para finalizar\n",
            "sim\n",
            "========================================\n",
            "========================================\n",
            "Digite um número inteiro\n",
            "1\n",
            "----------------------------------------\n",
            "Digite [Sim] para continuar ou qualquer tecla para finalizar\n",
            "sim\n",
            "========================================\n",
            "========================================\n",
            "Digite um número inteiro\n",
            "3\n",
            "----------------------------------------\n",
            "Digite [Sim] para continuar ou qualquer tecla para finalizar\n",
            " nao\n",
            "========================================\n",
            "========================================\n",
            "[4, 1, 3]\n",
            "[4]\n",
            "[1, 3]\n"
          ]
        }
      ]
    },
    {
      "cell_type": "code",
      "source": [
        "expressão = input(\"Digite uma expressão com parênteses que será analisada\\n\")\n",
        "\n",
        "contadorOpen = expressão.count(\"(\")\n",
        "contadorClosed = expressão.count(\")\")\n",
        "\n",
        "openPar = expressão.find(\"(\")\n",
        "closePar = expressão.find(\")\")\n",
        "\n",
        "if contadorOpen == contadorClosed:\n",
        "  if openPar >= 0:\n",
        "    if closePar >= openPar:\n",
        "      print(\"Sua expressão é válida!\")\n",
        "    else:\n",
        "      print(\"Expressão inválida!\")\n",
        "else:\n",
        "  print(\"Expressão inválida!\")\n",
        "\n",
        "\n"
      ],
      "metadata": {
        "colab": {
          "base_uri": "https://localhost:8080/"
        },
        "id": "V_IUlvFkluCg",
        "outputId": "4c4d48c0-eeff-498a-9e76-39a8ef5a094a"
      },
      "execution_count": null,
      "outputs": [
        {
          "output_type": "stream",
          "name": "stdout",
          "text": [
            "Digite uma expressão com parênteses que será analisada\n",
            " ( qgwoewq ) ( sadysad) )\n",
            "Expressão inválida!\n"
          ]
        }
      ]
    },
    {
      "cell_type": "code",
      "source": [
        "\n",
        "lista = [['jean', 'samuel'], ['candido', 'henrique']]\n",
        "\n",
        "print(lista[0][0])\n",
        "print(lista[1][1])\n",
        "print(lista[0][1])\n",
        "print(lista[1][0])\n",
        "\n",
        "\n",
        "\n",
        "# galera.append(dado[:]) os dois pontos fazem total diferença"
      ],
      "metadata": {
        "id": "TkooLFAkM_j-",
        "colab": {
          "base_uri": "https://localhost:8080/"
        },
        "outputId": "5314f183-50ab-49ef-ccd4-58edc6dcfc55"
      },
      "execution_count": null,
      "outputs": [
        {
          "output_type": "stream",
          "name": "stdout",
          "text": [
            "jean\n",
            "henrique\n",
            "samuel\n",
            "candido\n"
          ]
        }
      ]
    },
    {
      "cell_type": "code",
      "source": [
        "\n"
      ],
      "metadata": {
        "id": "NkJaSas7FxPR"
      },
      "execution_count": null,
      "outputs": []
    },
    {
      "cell_type": "code",
      "source": [
        "resposta = \"sim\"\n",
        "novoJogador = []\n",
        "jogo = []\n",
        "jogoDef = []\n",
        "\n",
        "i = totalGols = contador = j = 0\n",
        "\n",
        "while resposta == \"sim\":\n",
        "  print(\"=\" * 80)\n",
        "  jogador = {\"nome\": str(input(\"Digite o nome do jogador:  \")),\"Jogos\": int(input(\"Quantos jogos ele jogou?  \"))}\n",
        "  for i in range(0, jogador[\"Jogos\"]):\n",
        "    jogador[\"Gols\"] = int(input(f\"Quantos gols ele marcou no {i + 1} jogo?  \"))\n",
        "    totalGols+= jogador[\"Gols\"]\n",
        "    jogo.append(jogador[\"Gols\"])\n",
        "  jogador[\"Total de Gols\"] = totalGols\n",
        "  del(jogador[\"Gols\"])\n",
        "  novoJogador.append(jogador.copy())\n",
        "  jogoDef.append(jogo[:])\n",
        "  jogo.clear()\n",
        "  jogador.clear()\n",
        "  totalGols = 0\n",
        "  resposta = str(input(\"Digite 'SIM' para continuar ou qualquer tecla para sair. \\n\" )).strip().lower()\n",
        "  contador+= 1\n",
        "\n",
        "\n",
        "print(f\"\\nForam cadastrados {contador} jogadores.\")\n",
        "print(\"=\" * 80)\n",
        "for i in range(0, contador):\n",
        "  print(f\"|{i}| --- > {novoJogador[i]}\")\n",
        "print(\"=\" * 80)\n",
        "\n",
        "resposta = \"sim\"\n",
        "\n",
        "while resposta == \"sim\":\n",
        "  opc = int(input(\"Digite o número do jogador para mais detalhes \"))\n",
        "  print(\"=\" * 80)\n",
        "  for i in range(0, contador):\n",
        "    if i == opc:\n",
        "      for j in range(0, len(jogoDef[i])):\n",
        "        print(f\"O jogador {i + 1} marcou {jogoDef[i][j]} gol(s) no jogo {j + 1}\")\n",
        "      print(\"=\" * 80)\n",
        "      resposta = str(input(\"Digite 'SIM' para saber sobre outro jogador ou qualquer tecla para sair. \\n\" )).strip().lower()\n",
        "\n"
      ],
      "metadata": {
        "id": "D2Qwu55QwlTW",
        "colab": {
          "base_uri": "https://localhost:8080/"
        },
        "outputId": "2d573e8e-774d-4e24-a2e3-ea25f1c3916d"
      },
      "execution_count": null,
      "outputs": [
        {
          "name": "stdout",
          "output_type": "stream",
          "text": [
            "================================================================================\n",
            "Digite o nome do jogador:  Jean\n",
            "Quantos jogos ele jogou?  2\n",
            "Quantos gols ele marcou no 1 jogo?  1\n",
            "Quantos gols ele marcou no 2 jogo?  1\n",
            "Digite 'SIM' para continuar ou qualquer tecla para sair. \n",
            "sim\n",
            "================================================================================\n",
            "Digite o nome do jogador:  lucas\n",
            "Quantos jogos ele jogou?  1\n",
            "Quantos gols ele marcou no 1 jogo?  3\n",
            "Digite 'SIM' para continuar ou qualquer tecla para sair. \n",
            "n\n",
            "\n",
            "Foram cadastrados 2 jogadores.\n",
            "================================================================================\n",
            "|0| --- > {'nome': 'Jean', 'Jogos': 2, 'Total de Gols': 2}\n",
            "|1| --- > {'nome': 'lucas', 'Jogos': 1, 'Total de Gols': 3}\n",
            "================================================================================\n",
            "Digite o número do jogador para mais detalhes 0\n",
            "O jogador 1 marcou 1 gol(s) no jogo 1\n",
            "O jogador 1 marcou 1 gol(s) no jogo 2\n",
            "================================================================================\n",
            "Digite 'SIM' para saber sobre outro jogador ou qualquer tecla para sair. \n",
            "sim\n",
            "Digite o número do jogador para mais detalhes 1\n",
            "O jogador 2 marcou 3 gol(s) no jogo 1\n",
            "================================================================================\n",
            "Digite 'SIM' para saber sobre outro jogador ou qualquer tecla para sair. \n",
            "n\n"
          ]
        }
      ]
    },
    {
      "cell_type": "markdown",
      "source": [
        "FUNÇÕES\n",
        "FUNÇÕES\n"
      ],
      "metadata": {
        "id": "y7R4aptMHchF"
      }
    },
    {
      "cell_type": "code",
      "source": [
        "#Desempacotamento def x(* valores):\n",
        "def area():\n",
        "  larg = int(input(\"Digite a largura  \"))\n",
        "  comp = int(input(\"Digite o comprimento  \"))\n",
        "\n",
        "  a = larg * comp\n",
        "  return \"A área é igual a {}m²\" .format(a)\n",
        "\n",
        "area()\n"
      ],
      "metadata": {
        "colab": {
          "base_uri": "https://localhost:8080/",
          "height": 70
        },
        "id": "avNSWxsID4Qc",
        "outputId": "d02b3f51-9762-4a6e-e99d-3da1a982f09d"
      },
      "execution_count": null,
      "outputs": [
        {
          "name": "stdout",
          "output_type": "stream",
          "text": [
            "Digite a largura 2\n",
            "Digite o comprimento3\n"
          ]
        },
        {
          "output_type": "execute_result",
          "data": {
            "text/plain": [
              "'O comprimento é igual a 6m²'"
            ],
            "application/vnd.google.colaboratory.intrinsic+json": {
              "type": "string"
            }
          },
          "metadata": {},
          "execution_count": 6
        }
      ]
    },
    {
      "cell_type": "code",
      "source": [
        "##tamanho adaptavel, essa eu não sei\n",
        "\n",
        "def escreva(txt):\n",
        "  tam = len(txt)\n",
        "  print(\"~\" * tam)\n",
        "  print(txt)\n",
        "  print(\"~\" * tam)\n",
        "\n",
        "\n",
        "escreva(\"OLÁ MUNDO\")\n",
        "\n",
        "\n"
      ],
      "metadata": {
        "colab": {
          "base_uri": "https://localhost:8080/"
        },
        "id": "fOyUKETmTV5x",
        "outputId": "995b226d-9d06-4f89-80d9-90ddf23e426f"
      },
      "execution_count": 1,
      "outputs": [
        {
          "output_type": "stream",
          "name": "stdout",
          "text": [
            "~~~~~~~~~\n",
            "OLÁ MUNDO\n",
            "~~~~~~~~~\n"
          ]
        }
      ]
    },
    {
      "cell_type": "code",
      "source": [
        "import time\n",
        "def contador(inicio, fim, passo):\n",
        "\n",
        "  if inicio < fim:\n",
        "    for i in range(inicio, fim, passo):\n",
        "      print(i, end=' ')\n",
        "      time.sleep(0.5)\n",
        "    print(\"\\n\" + \"=-\"*40)\n",
        "    return\n",
        "  if inicio > fim:\n",
        "    for i in range(inicio, fim, -passo):\n",
        "      print(i, end=' ')\n",
        "      time.sleep(0.5)\n",
        "    print(\"\\n\" + \"=-\"*40)\n",
        "    return\n",
        "  else:\n",
        "    inicio = int(input(\"Digite o início: \"))\n",
        "    fim = int(input(\"Digite o fim \"))\n",
        "    passo = int(input(\"Digite o passo contado:\"))\n",
        "    if inicio < fim:\n",
        "      for i in range(inicio, fim, passo):\n",
        "        print(i, end=' ')\n",
        "        time.sleep(0.5)\n",
        "      print(\"\\n\" + \"=-\"*40)\n",
        "      return\n",
        "\n",
        "    if inicio > fim:\n",
        "      for i in range(inicio, fim, -passo):\n",
        "        print(i, end=' ')\n",
        "        time.sleep(0.5)\n",
        "      print(\"\\n\" + \"=-\"*40)\n",
        "      return\n",
        "\n",
        "\n",
        "contador(0,11,1)\n",
        "contador(10,0,2)\n",
        "contador(0,0,0)\n",
        "\n"
      ],
      "metadata": {
        "colab": {
          "base_uri": "https://localhost:8080/"
        },
        "id": "XbD8M7XxUmaO",
        "outputId": "264851c9-0eec-459b-8024-ec0cf1621878"
      },
      "execution_count": null,
      "outputs": [
        {
          "output_type": "stream",
          "name": "stdout",
          "text": [
            "0 1 2 3 4 5 6 7 8 9 10 \n",
            "=-=-=-=-=-=-=-=-=-=-=-=-=-=-=-=-=-=-=-=-=-=-=-=-=-=-=-=-=-=-=-=-=-=-=-=-=-=-=-=-\n",
            "10 8 6 4 2 \n",
            "=-=-=-=-=-=-=-=-=-=-=-=-=-=-=-=-=-=-=-=-=-=-=-=-=-=-=-=-=-=-=-=-=-=-=-=-=-=-=-=-\n",
            "Digite o início: 2\n",
            "Digite o fim 1\n",
            "Digite o passo contado:3\n",
            "2 \n",
            "=-=-=-=-=-=-=-=-=-=-=-=-=-=-=-=-=-=-=-=-=-=-=-=-=-=-=-=-=-=-=-=-=-=-=-=-=-=-=-=-\n"
          ]
        }
      ]
    },
    {
      "cell_type": "code",
      "source": [
        "def maior(*valores):\n",
        "  aux = 0\n",
        "  print(\"A lista contem: \")\n",
        "  for i in range(0, len(valores)):\n",
        "    if i == 0:\n",
        "      aux = valores[i]\n",
        "    if valores[i] > aux:\n",
        "      aux = valores[i]\n",
        "    print(valores[i], end=\", \")\n",
        "  print(\"\\nO maior valor é: \", aux)\n",
        "\n",
        "\n",
        "maior(12312312,12312312,54656,2341267,978765,43534245,6768,78,9765435,34,678,6,754,3,56,78976,57643,5,678,9765,432)\n"
      ],
      "metadata": {
        "colab": {
          "base_uri": "https://localhost:8080/"
        },
        "id": "JTY28uqpZetO",
        "outputId": "a94aeeb9-7a71-4d3f-f931-8d4ec7b3c42b"
      },
      "execution_count": null,
      "outputs": [
        {
          "output_type": "stream",
          "name": "stdout",
          "text": [
            "A lista contem: \n",
            "12312312, 12312312, 54656, 2341267, 978765, 43534245, 6768, 78, 9765435, 34, 678, 6, 754, 3, 56, 78976, 57643, 5, 678, 9765, 432, \n",
            "O maior valor é:  43534245\n"
          ]
        }
      ]
    },
    {
      "cell_type": "code",
      "source": [
        "import random\n",
        "\n",
        "numeros = []\n",
        "\n",
        "def sorteia():\n",
        "  for i in range(0,5):\n",
        "    numeros.append(random.randint(0,100))\n",
        "  print(f\"Os números sorteados são {numeros}:\")\n",
        "def somaPar():\n",
        "  somapar = 0\n",
        "  for i in range(0,5):\n",
        "    if numeros[i] % 2 == 0:\n",
        "      somapar+= numeros[i]\n",
        "  print(\"A soma dos pares é igual a:\", somapar)\n",
        "\n",
        "sorteia()\n",
        "somaPar()\n"
      ],
      "metadata": {
        "colab": {
          "base_uri": "https://localhost:8080/"
        },
        "id": "Mbke7XjjbwDT",
        "outputId": "3395633c-ef28-443d-fe2d-b29995e61ab6"
      },
      "execution_count": null,
      "outputs": [
        {
          "output_type": "stream",
          "name": "stdout",
          "text": [
            "Os números sorteados são [10, 56, 35, 17, 29]:\n",
            "A soma dos pares é igual a: 66\n"
          ]
        }
      ]
    },
    {
      "cell_type": "code",
      "source": [
        "def voto(anoNascimento):\n",
        "    if 2022 - anoNascimento >= 16 and 2022 - anoNascimento < 18:\n",
        "      print(\"Você possui voto OPCIONAL nas eleições.\")\n",
        "    elif 2022 - anoNascimento < 16:\n",
        "      print(\"Você possui voto NEGADO nas eleições.\")\n",
        "    else:\n",
        "      print(\"Voce possui voto OBRIGATORIO nas eleições.\")\n",
        "\n",
        "print(\"-\" * 30)\n",
        "voto(int(input(\"Digite o ano do seu nascimentoz\\n\")))\n",
        "\n",
        "\n",
        "\n",
        "\n"
      ],
      "metadata": {
        "colab": {
          "base_uri": "https://localhost:8080/"
        },
        "id": "xLcAAfw3TFV8",
        "outputId": "deaebae6-2413-44f0-9ecd-a5d95baf75e2"
      },
      "execution_count": null,
      "outputs": [
        {
          "output_type": "stream",
          "name": "stdout",
          "text": [
            "------------------------------\n",
            "Digite o ano do seu nascimentoz\n",
            "1990\n",
            "Voce possui voto OBRIGATORIO nas eleições.\n"
          ]
        }
      ]
    },
    {
      "cell_type": "code",
      "source": [
        "\n",
        "def fatorial(num, show = 0):\n",
        "  r = num\n",
        "  for i in range (num - 1, 0, -1):\n",
        "    if show == 1:\n",
        "      print(f\"{r} vezes {i} = {r * i}\")\n",
        "    r = r * i\n",
        "  return print(\"O fatorial é igual a: \", r)\n",
        "\n",
        "fatorial(int(input(\"Digite o número no qual deseja saber o fatorial\\n\")), int(input(\"Digite [1] se quiser mostrar as operações\\n\")))\n",
        "\n",
        "\n",
        "\n"
      ],
      "metadata": {
        "colab": {
          "base_uri": "https://localhost:8080/"
        },
        "id": "sv7JUXcirnbx",
        "outputId": "c86967a8-74c9-469b-afd3-2196322b0da9"
      },
      "execution_count": null,
      "outputs": [
        {
          "output_type": "stream",
          "name": "stdout",
          "text": [
            "Digite o número no qual deseja saber o fatorial\n",
            "5\n",
            "Digite [1] se quiser mostrar as operações\n",
            "0\n",
            "O fatorial é igual a:  120\n"
          ]
        }
      ]
    },
    {
      "cell_type": "code",
      "source": [
        "def ficha(nome = '', gols = ''):\n",
        "  print(f\"O jogador {nome} fez {gols} gols no campeonato\")\n",
        "\n",
        "\n",
        "nomee = str(input(\"Digite o nome do jogador: \"))\n",
        "gol = str(input(\"Digite quantos gols o jogador fez: \"))\n",
        "\n",
        "if gol.isnumeric():\n",
        "  gol = int(gol)\n",
        "else:\n",
        "  gol = \"indeterminado\"\n",
        "if nomee.strip() == '':\n",
        "  ficha(nome = 'desconhecido', gols = gol)\n",
        "else:\n",
        "  ficha(nomee, gol)\n",
        "\n",
        "\n",
        "\n"
      ],
      "metadata": {
        "colab": {
          "base_uri": "https://localhost:8080/"
        },
        "id": "Af2HQYUGuKUG",
        "outputId": "b9e2a31b-e617-4a3a-baf2-34205c023c62"
      },
      "execution_count": null,
      "outputs": [
        {
          "output_type": "stream",
          "name": "stdout",
          "text": [
            "Digite o nome do jogador: jean\n",
            "Digite quantos gols o jogador fez: 3\n",
            "O jogador jean fez 3 gols no campeonato\n"
          ]
        }
      ]
    },
    {
      "cell_type": "code",
      "source": [
        "def leiaint(num = 0):\n",
        "  while True:\n",
        "    if num.isnumeric():\n",
        "      print(\"Você digitou o valor: \", num)\n",
        "      break\n",
        "    else:\n",
        "      print(\"ERRO\")\n",
        "      num = str(input(\"Digite um valor inteiro VÁLIDO\\n\"))\n",
        "\n",
        "leiaint(str(input(\"Digite um valor inteiro\\n\")))\n",
        "\n"
      ],
      "metadata": {
        "colab": {
          "base_uri": "https://localhost:8080/"
        },
        "id": "s9CevsPZvz8i",
        "outputId": "3b555cd1-23d9-437d-955b-f27f3ef3a522"
      },
      "execution_count": null,
      "outputs": [
        {
          "output_type": "stream",
          "name": "stdout",
          "text": [
            "Digite um valor inteiro a\n",
            "ERRO\n",
            "Digite um valor inteiro VÁLIDOdasda\n",
            "ERRO\n",
            "Digite um valor inteiro VÁLIDO2\n",
            "Você digitou o valor:  2\n"
          ]
        }
      ]
    },
    {
      "cell_type": "code",
      "source": [
        "dicionario = dict()\n",
        "\n",
        "def notas(notas = [], situacao = 0):\n",
        "  \"\"\" vai tomar no cu :)\n",
        "  \"\"\"\n",
        "\n",
        "  soma = escolha = 0\n",
        "  for i in range(0, len(notas)):\n",
        "    soma += notas[i]\n",
        "\n",
        "  for i in range(0,len(notas)):\n",
        "    print(f\"Nota [{i}] é {notas[i]}\")\n",
        "\n",
        "  if situacao == 1:\n",
        "    escolha = int(input(\"Digite qual nota deseja saber a situação\\n\"))\n",
        "    for i in range(0,len(notas)):\n",
        "      if escolha == i:\n",
        "        if notas[i] >= 7:\n",
        "          print(notas[i], \"--> Aprovada\")\n",
        "        if notas[i] < 7:\n",
        "          print(notas[i], \"--> Reprovada\")\n",
        "  media = soma / len(notas)\n",
        "\n",
        "\n",
        "  print(\"=\" * 40 + \"=\" * 40)\n",
        "  dicionario[\"Quantidade\"] = len(notas)\n",
        "  dicionario[\"Maior nota\"] = max(notas)\n",
        "  dicionario[\"Menor nota\"] = min(notas)\n",
        "  dicionario[\"Media dos alunos\"] = media\n",
        "\n",
        "\n",
        "\n",
        "lista = []\n",
        "n = 0\n",
        "while n >= 0 and n <= 10:\n",
        "  n = float(input(\"Digite uma nota entre 0 e 10, ou um número fora disso para sair\\n\"))\n",
        "  if n >= 0 and n <= 10:\n",
        "    lista.append(n)\n",
        "\n",
        "notas(lista, int(input(\"Digite 1 para saber da situação das notas nota\\n\")))\n",
        "print(dicionario)\n",
        "\n",
        "print(\"=\" * 60 + \"\\n\" + \"=\"*60)\n",
        "help(notas)"
      ],
      "metadata": {
        "colab": {
          "base_uri": "https://localhost:8080/"
        },
        "id": "OZqPaaBqyWXM",
        "outputId": "8660d6d9-53a7-4382-b4b7-6442fec0370a"
      },
      "execution_count": null,
      "outputs": [
        {
          "output_type": "stream",
          "name": "stdout",
          "text": [
            "Digite uma nota entre 0 e 10, ou um número fora disso para sair\n",
            "1\n",
            "Digite uma nota entre 0 e 10, ou um número fora disso para sair\n",
            "11\n",
            "Digite 1 para saber da situação das notas nota\n",
            "0\n",
            "Nota [0] é 1.0\n",
            "================================================================================\n",
            "{'Quantidade': 1, 'Maior nota': 1.0, 'Menor nota': 1.0, 'Media dos alunos': 1.0}\n",
            "========================================\n",
            "========================================\n",
            "Help on function notas in module __main__:\n",
            "\n",
            "notas(notas=[], situacao=0)\n",
            "    vai tomar no cu :)\n",
            "\n"
          ]
        }
      ]
    }
  ],
  "metadata": {
    "colab": {
      "provenance": [],
      "authorship_tag": "ABX9TyOkHEaLsLd00vALpVxl5lXd"
    },
    "kernelspec": {
      "display_name": "Python 3",
      "name": "python3"
    },
    "language_info": {
      "name": "python"
    }
  },
  "nbformat": 4,
  "nbformat_minor": 0
}