{
  "nbformat": 4,
  "nbformat_minor": 0,
  "metadata": {
    "colab": {
      "provenance": [],
      "authorship_tag": "ABX9TyP5pU4kYAMpWuB/U9hMxi7z"
    },
    "kernelspec": {
      "name": "python3",
      "display_name": "Python 3"
    },
    "language_info": {
      "name": "python"
    }
  },
  "cells": [
    {
      "cell_type": "code",
      "metadata": {
        "id": "JsSldUcinK-O",
        "colab": {
          "base_uri": "https://localhost:8080/"
        },
        "outputId": "d381f8fa-9809-483e-de10-436e66357ee8"
      },
      "source": [
        "#Exercício 01\n",
        "\n",
        "def potencia(x, n):\n",
        "  if n == 0:\n",
        "    return 1\n",
        "  else:\n",
        "    return x * potencia(x, n - 1 )\n",
        "\n",
        "potencia (2, 3)\n",
        "\n",
        "# Teste de mesa\n",
        "\n",
        "# Passo 1: Foi atribuido uma função com dois parâmetros (x,n)\n",
        "# Passo 2: Logo, duas condicionais, a primeira para encerrar a recursão da função, e a segunda para realizar a recursão\n",
        "# Passo 3: Na segunda condição, x recebe um valor inicial de 2 e multiplica a propria função com o contador n - 1, diminuindo o numero de vezes que a função\n",
        "#pode ser multiplicada, até a condição um, que se encerra a recursão.\n",
        "# Passo 4: 2 * 2 com n - 1 ->  4 * 2 com n - 2 - > 8 * 1 com n - 3"
      ],
      "execution_count": null,
      "outputs": [
        {
          "output_type": "execute_result",
          "data": {
            "text/plain": [
              "8"
            ]
          },
          "metadata": {},
          "execution_count": 72
        }
      ]
    },
    {
      "cell_type": "code",
      "metadata": {
        "colab": {
          "base_uri": "https://localhost:8080/"
        },
        "id": "jT45PekaT_Gj",
        "outputId": "e370a1c8-0db5-48af-c861-3705f7c19e1e"
      },
      "source": [
        "#Exercício 02\n",
        "\n",
        "def inteiro(n):\n",
        "  if n == 0:\n",
        "    return 0\n",
        "  else:\n",
        "    return n, inteiro (n - 1)\n",
        "\n",
        "inteiro (10)\n",
        "\n",
        "#Teste de mesa\n",
        "# n = 10, sendo n / n - 1 -> n - 1 / n - 2 -> n - 2 / n - 3 -> / n - 3 / n - 4 -> n - 4 / n - 5..."
      ],
      "execution_count": null,
      "outputs": [
        {
          "output_type": "execute_result",
          "data": {
            "text/plain": [
              "(10, (9, (8, (7, (6, (5, (4, (3, (2, (1, 0))))))))))"
            ]
          },
          "metadata": {},
          "execution_count": 39
        }
      ]
    },
    {
      "cell_type": "code",
      "metadata": {
        "colab": {
          "base_uri": "https://localhost:8080/"
        },
        "id": "iiw2gdkmc6z_",
        "outputId": "f8ad4f32-be5a-4953-c966-ea2baeeecc93"
      },
      "source": [
        "#Exercício 03\n",
        "\n",
        "def soma(n):\n",
        "  if n == 0:\n",
        "    return 0\n",
        "  else:\n",
        "    return n + soma (n - 1)\n",
        "\n",
        "soma(10)\n",
        "\n",
        "#Teste de mesa\n",
        "#  n = 10 + soma(n - 1) -> n = 9 + soma(n - 2) -> n = 8 + soma(n - 3) -> n = 7 + soma(n - 4)"
      ],
      "execution_count": null,
      "outputs": [
        {
          "output_type": "execute_result",
          "data": {
            "text/plain": [
              "55"
            ]
          },
          "metadata": {},
          "execution_count": 73
        }
      ]
    },
    {
      "cell_type": "code",
      "metadata": {
        "colab": {
          "base_uri": "https://localhost:8080/"
        },
        "id": "BLH7qk_SeNLX",
        "outputId": "55143812-c8ac-4193-d413-c93e243e75f3"
      },
      "source": [
        "#Exercício 04\n",
        "\n",
        "def soma(a, b):\n",
        "  if a == b:\n",
        "    return 0\n",
        "  else:\n",
        "    return b + soma(a, b - 1)\n",
        "\n",
        "soma(4 , 6)\n",
        "\n",
        "#Teste de mesa\n",
        "# b == 6 + soma(4, b - 1 = 5) - > b == 5 + soma(4, b - 2 = 4) -> b == 4 + soma(4, b - 3 = 3)"
      ],
      "execution_count": null,
      "outputs": [
        {
          "output_type": "execute_result",
          "data": {
            "text/plain": [
              "11"
            ]
          },
          "metadata": {},
          "execution_count": 74
        }
      ]
    },
    {
      "cell_type": "code",
      "metadata": {
        "colab": {
          "base_uri": "https://localhost:8080/"
        },
        "id": "9N83IdZnhdZi",
        "outputId": "d86ab5b8-8a1d-4b99-d2d1-2315847b07c0"
      },
      "source": [
        "#Exercício 05\n",
        "\n",
        "lista = list (range(10))\n",
        "\n",
        "def procura(x, vetor):\n",
        "  for i in range (len(vetor)):\n",
        "    if vetor[i] == x:\n",
        "      return vetor[x], 'posiçao do numero:', x\n",
        "\n",
        "\n",
        "print(lista)\n",
        "print(procura(9, lista))\n",
        "\n",
        "\n",
        "#Teste de mesa\n",
        "# vetor = 1,2,3,4,5,7,8,9. // x = 9, vetor[i] == 9"
      ],
      "execution_count": null,
      "outputs": [
        {
          "output_type": "stream",
          "text": [
            "[0, 1, 2, 3, 4, 5, 6, 7, 8, 9]\n",
            "(9, 'posiçao do numero:', 9)\n"
          ],
          "name": "stdout"
        }
      ]
    },
    {
      "cell_type": "code",
      "metadata": {
        "id": "tS1QdBgnnlds",
        "colab": {
          "base_uri": "https://localhost:8080/"
        },
        "outputId": "b8315220-10fb-408e-e1d1-5882e66302d0"
      },
      "source": [
        "#Exercício 06\n",
        "\n",
        "def inteiros(n):\n",
        "  if n == 0:\n",
        "    return 0\n",
        "  else:\n",
        "    return n + inteiros(n - 1)\n",
        "\n",
        "inteiros(5)\n",
        "#Teste de mesa\n",
        "# n = 5 + n - 1 -> n = 4 + n - 2 -> n = 3 + n - 3 -> n = 2"
      ],
      "execution_count": null,
      "outputs": [
        {
          "output_type": "execute_result",
          "data": {
            "text/plain": [
              "15"
            ]
          },
          "metadata": {},
          "execution_count": 87
        }
      ]
    },
    {
      "cell_type": "code",
      "metadata": {
        "colab": {
          "base_uri": "https://localhost:8080/"
        },
        "id": "DqhEtFNjr0zc",
        "outputId": "74a3ff96-52dd-48c7-ca8a-c1dd427dc13d"
      },
      "source": [
        "#Exercício 07\n",
        "\n",
        "def fibonacci(n):\n",
        "  if n == 0 or n == 1:\n",
        "    return n\n",
        "  else:\n",
        "    return fibonacci(n-1) + fibonacci(n-2)\n",
        "\n",
        "fibonacci(4)\n",
        "\n",
        "#Teste de mesa\n",
        "# 1, 1, 2, 3, 5, 8, 13, 21, 34, 55...\n",
        "# fibonacci (4) = fibonacci(3) + fibonacci(2) - > fibonacci(3) = fibonacci(2) + fibonacci(1) - > fibonacci(2) = fibonacci(1) + fibonacci(0) ->\n",
        "# -> fibonacci(0) = 0 e fibonacci(1) = 1 -> fibonacci(2) = 1 + 0 -> fibonacci(3) = 1 + 1 -> fibonacci(4) = 1 + 2\n"
      ],
      "execution_count": null,
      "outputs": [
        {
          "output_type": "execute_result",
          "data": {
            "text/plain": [
              "3"
            ]
          },
          "metadata": {},
          "execution_count": 91
        }
      ]
    },
    {
      "cell_type": "code",
      "metadata": {
        "colab": {
          "base_uri": "https://localhost:8080/"
        },
        "id": "_tGX9TJ51Ljs",
        "outputId": "a2cd7efc-513b-430b-927d-067e592ad505"
      },
      "source": [
        "#Exercício 08\n",
        "# Retirado de: https://pt.stackoverflow.com/questions/412524/torre-de-hanoi-como-funciona-essa-solu%C3%A7%C3%A3o-recursiva\n",
        "\n",
        "def toweOFhanoi(disc,ori,dest,aux):\n",
        "    if disc == 1:\n",
        "        print('Move disc {} from tower {} to the tower {}'.format(disc,ori,dest))\n",
        "        return\n",
        "\n",
        "    toweOFhanoi(disc - 1,ori,aux,dest)\n",
        "    print('Move disc {} from tower {} to the tower {}'.format(disc,ori,dest))\n",
        "    toweOFhanoi(disc - 1,aux,ori,dest)\n",
        "    print('Move disc {} from tower {} to the tower {}'.format(disc,ori,dest))\n",
        "\n",
        "toweOFhanoi(2,3,4,2)"
      ],
      "execution_count": null,
      "outputs": [
        {
          "output_type": "stream",
          "text": [
            "Move disc 1 from tower 3 to the tower 2\n",
            "Move disc 2 from tower 3 to the tower 4\n",
            "Move disc 1 from tower 2 to the tower 3\n",
            "Move disc 2 from tower 3 to the tower 4\n"
          ],
          "name": "stdout"
        }
      ]
    },
    {
      "cell_type": "markdown",
      "metadata": {
        "id": "yQD2opL24WC2"
      },
      "source": [
        "\"Um analisador sintático descendente recursivo é um analisador sintático descendente construído a partir de subrotinas mutualmente recursivas em que cada subrotina geralmente implementa uma das regras de produção da gramática. Cada subrotina fica associada a um elemento não-terminal da gramática.\"\n",
        "\n",
        "Fonte: Wikipedia"
      ]
    },
    {
      "cell_type": "markdown",
      "metadata": {
        "id": "X5mNLees4sS8"
      },
      "source": []
    }
  ]
}