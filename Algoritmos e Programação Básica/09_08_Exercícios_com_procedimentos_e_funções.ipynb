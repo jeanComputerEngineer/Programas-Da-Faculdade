{
  "nbformat": 4,
  "nbformat_minor": 0,
  "metadata": {
    "colab": {
      "provenance": []
    },
    "kernelspec": {
      "display_name": "Python 3",
      "name": "python3"
    },
    "language_info": {
      "name": "python"
    }
  },
  "cells": [
    {
      "cell_type": "code",
      "metadata": {
        "colab": {
          "base_uri": "https://localhost:8080/"
        },
        "id": "6rn-8ZCsxLb5",
        "outputId": "f9f91039-eace-4712-bcaa-dfeb05fc9af0"
      },
      "source": [
        "# Exercício 01\n",
        "\n",
        "def x (a, b):\n",
        "\n",
        "  if a <= b:\n",
        "    print(a)\n",
        "  else:\n",
        "    print(b)\n",
        "\n",
        "x(40, 30)\n",
        "\n"
      ],
      "execution_count": null,
      "outputs": [
        {
          "output_type": "stream",
          "name": "stdout",
          "text": [
            "30\n"
          ]
        }
      ]
    },
    {
      "cell_type": "code",
      "metadata": {
        "colab": {
          "base_uri": "https://localhost:8080/"
        },
        "id": "sjUJail-2XAn",
        "outputId": "b837336f-e596-4cca-e2b7-7dfd480dfc18"
      },
      "source": [
        "# Exercício 02\n",
        "\n",
        "def x(n):\n",
        "  if n <= 0:\n",
        "    print(\"Valor negativo\")\n",
        "  else:\n",
        "    print(\"Valor positivo\")\n",
        "\n",
        "x(20)\n",
        "x(-30)"
      ],
      "execution_count": null,
      "outputs": [
        {
          "output_type": "stream",
          "text": [
            "Valor positivo\n",
            "Valor negativo\n"
          ],
          "name": "stdout"
        }
      ]
    },
    {
      "cell_type": "code",
      "metadata": {
        "colab": {
          "base_uri": "https://localhost:8080/"
        },
        "id": "8Y9y9OZi3QGy",
        "outputId": "899074cd-e066-40a1-c185-8079ee169d59"
      },
      "source": [
        "# Exercício 03\n",
        "\n",
        "def x(n):\n",
        "  print(n)\n",
        "\n",
        "x(30)"
      ],
      "execution_count": null,
      "outputs": [
        {
          "output_type": "stream",
          "text": [
            "30\n"
          ],
          "name": "stdout"
        }
      ]
    },
    {
      "cell_type": "code",
      "metadata": {
        "colab": {
          "base_uri": "https://localhost:8080/"
        },
        "id": "z2XzWrge4BRJ",
        "outputId": "62bbda09-cdbc-48fd-e366-90c0939a7dad"
      },
      "source": [
        "# Exercício 04\n",
        "\n",
        "def x(a, b, limite):\n",
        "  if a + b > limite:\n",
        "    cond = True\n",
        "    print(cond)\n",
        "  else:\n",
        "    cond = False\n",
        "    print(cond)\n",
        "\n",
        "x(20, 30, 40)"
      ],
      "execution_count": null,
      "outputs": [
        {
          "output_type": "stream",
          "text": [
            "True\n"
          ],
          "name": "stdout"
        }
      ]
    },
    {
      "cell_type": "code",
      "metadata": {
        "colab": {
          "base_uri": "https://localhost:8080/"
        },
        "id": "jUopSbQo5lW5",
        "outputId": "0d255cf9-c9fb-4821-9574-563bfea6fc17"
      },
      "source": [
        "# Exercício 05\n",
        "\n",
        "def x(a, b, limite):\n",
        "  aux = 0\n",
        "  aux1 = 0\n",
        "  if a > limite:\n",
        "    aux+= 1\n",
        "    if b > limite:\n",
        "      aux += 1\n",
        "  print(aux, \": É a quantidade de numeros maiores que o limite\")\n",
        "\n",
        "\n",
        "x(3, 2, 1)"
      ],
      "execution_count": null,
      "outputs": [
        {
          "output_type": "stream",
          "text": [
            "2 : É a quantidade de numeros maiores que  o limite\n"
          ],
          "name": "stdout"
        }
      ]
    },
    {
      "cell_type": "code",
      "metadata": {
        "colab": {
          "base_uri": "https://localhost:8080/"
        },
        "id": "p66zld-E8PYa",
        "outputId": "4608b045-d580-48de-a8a4-6f5a04a0cb84"
      },
      "source": [
        "#Exercício 06\n",
        "\n",
        "def binario(n):\n",
        "  c = []\n",
        "  while n > 0:\n",
        "    b = n % 2\n",
        "    n = n // 2\n",
        "    c.insert(0, b)\n",
        "  c = str(c)\n",
        "  c = c.replace(',', '')\n",
        "  print(c)\n",
        "\n",
        "binario(10)\n",
        "\n",
        "\n",
        "\n",
        "\n"
      ],
      "execution_count": null,
      "outputs": [
        {
          "output_type": "stream",
          "text": [
            "[1 0 1 0]\n"
          ],
          "name": "stdout"
        }
      ]
    },
    {
      "cell_type": "code",
      "metadata": {
        "colab": {
          "base_uri": "https://localhost:8080/"
        },
        "id": "B6yVKKUADORt",
        "outputId": "a453e1e3-2825-4621-c3b6-f4988e8cd52f"
      },
      "source": [
        "#Exercício 07\n",
        "\n",
        "def x(b):\n",
        "  a = 0\n",
        "  while (a <= 10000):\n",
        "    a+=1\n",
        "    if a % 4 == 0 and b == a\n",
        "      print(True)\n",
        "      break\n",
        "  if  b != a:\n",
        "    print(False)\n",
        "\n",
        "x(2000)"
      ],
      "execution_count": null,
      "outputs": [
        {
          "output_type": "stream",
          "text": [
            "True\n",
            "False\n"
          ],
          "name": "stdout"
        }
      ]
    },
    {
      "cell_type": "code",
      "metadata": {
        "colab": {
          "base_uri": "https://localhost:8080/"
        },
        "id": "ExBWC-FCfRxj",
        "outputId": "06495487-9128-456d-e5e8-6c7467b502e2"
      },
      "source": [
        "#Exercício 08\n",
        "\n",
        "def soma(n):\n",
        "  aux = 1\n",
        "  soma = 0\n",
        "  while aux <= n:\n",
        "    soma = soma + aux\n",
        "    aux = aux + 1\n",
        "  return soma\n",
        "\n",
        "soma(5)\n"
      ],
      "execution_count": null,
      "outputs": [
        {
          "output_type": "execute_result",
          "data": {
            "text/plain": [
              "15"
            ]
          },
          "metadata": {
            "tags": []
          },
          "execution_count": 57
        }
      ]
    },
    {
      "cell_type": "code",
      "metadata": {
        "id": "3EySWwJENxOR",
        "colab": {
          "base_uri": "https://localhost:8080/"
        },
        "outputId": "bd27f9c1-31a3-41c7-a8fd-f2bce59aab35"
      },
      "source": [
        "#Exercício 09\n",
        "\n",
        "def funcao_volume(r):\n",
        "  p = 3.14\n",
        "  v = (4 / 3) * p * (r ** 3)\n",
        "  return round(v,2)\n",
        "\n",
        "funcao_volume(7)\n"
      ],
      "execution_count": null,
      "outputs": [
        {
          "output_type": "execute_result",
          "data": {
            "text/plain": [
              "1436.03"
            ]
          },
          "metadata": {
            "tags": []
          },
          "execution_count": 1
        }
      ]
    },
    {
      "cell_type": "code",
      "metadata": {
        "colab": {
          "base_uri": "https://localhost:8080/"
        },
        "id": "H1ATMbPvlt56",
        "outputId": "4f3d4cf7-a160-4ac1-a5f5-86953fe8b6ed"
      },
      "source": [
        "# Exercício 10\n",
        "\n",
        "def primo(a):\n",
        "  x = 1\n",
        "  while x < a - 1:\n",
        "    x+= 1\n",
        "    if a % x == 0:\n",
        "      print(\"O numero não é primo!\")\n",
        "      break\n",
        "  else:\n",
        "    print(\"O numero é primo!\")\n",
        "\n",
        "primo(19)"
      ],
      "execution_count": null,
      "outputs": [
        {
          "output_type": "stream",
          "text": [
            "O numero é primo!\n"
          ],
          "name": "stdout"
        }
      ]
    },
    {
      "cell_type": "code",
      "metadata": {
        "colab": {
          "base_uri": "https://localhost:8080/"
        },
        "id": "6Rqu9M6bsitf",
        "outputId": "a321f195-cd7c-4299-adc2-07d793a45a17"
      },
      "source": [
        "#Exercício 11\n",
        "\n",
        "def idade (ano, mes, dia):\n",
        "  ano = 365 * ano\n",
        "  mes = 30 * mes\n",
        "\n",
        "  idade_dias = ano + mes + dia\n",
        "  print(idade_dias, \"dias de vida\")\n",
        "\n",
        "idade(1,1,1)"
      ],
      "execution_count": null,
      "outputs": [
        {
          "output_type": "stream",
          "text": [
            "396 dias de vida\n"
          ],
          "name": "stdout"
        }
      ]
    },
    {
      "cell_type": "code",
      "metadata": {
        "colab": {
          "base_uri": "https://localhost:8080/"
        },
        "id": "yskqTyWnuMnu",
        "outputId": "8455070c-942e-494a-ee1c-61c86b1f8afb"
      },
      "source": [
        "#Exercício 12\n",
        "\n",
        "def par(a):\n",
        "  if a % 2 == 0:\n",
        "    print(True, \"- A função é par\")\n",
        "\n",
        "  else:\n",
        "     print(False, \"- A função é impar\")\n",
        "\n",
        "par(5)"
      ],
      "execution_count": null,
      "outputs": [
        {
          "output_type": "stream",
          "text": [
            "False - A função é impar\n"
          ],
          "name": "stdout"
        }
      ]
    },
    {
      "cell_type": "code",
      "metadata": {
        "id": "SmDHG9Cnvq0m",
        "colab": {
          "base_uri": "https://localhost:8080/"
        },
        "outputId": "1ed1c92d-af54-40c8-dda7-4a14b2e0d9c3"
      },
      "source": [
        "#Exercício 13\n",
        "\n",
        "def media (n1, n2, n3, n4):\n",
        "  media = (n1 + n2 + n3 + n4) / 4\n",
        "  if media >= 7:\n",
        "    print(\"Aluno aprovado!\")\n",
        "  elif media >= 6 and media < 7:\n",
        "    print(\"Aluno aprovado com exame!\")\n",
        "  else:\n",
        "    print(\"Aluno reprovado!\")\n",
        "\n",
        "media(1, 10, 8, 6)"
      ],
      "execution_count": null,
      "outputs": [
        {
          "output_type": "stream",
          "text": [
            "Aluno aprovado com exame!\n"
          ],
          "name": "stdout"
        }
      ]
    },
    {
      "cell_type": "code",
      "metadata": {
        "colab": {
          "base_uri": "https://localhost:8080/"
        },
        "id": "ulDXbkRF8cpB",
        "outputId": "1e08f5bd-1239-4fa7-a662-9620ea62c4cd"
      },
      "source": [
        "#Exercício 14\n",
        "\n",
        "def peso_ideal(altura, sexo):\n",
        "  if sexo == \"Masculino\":\n",
        "    peso = 72.7 * altura - 58\n",
        "  elif sexo == \"Feminino\":\n",
        "    peso = 62.1 * altura - 44.7\n",
        "  return round(peso, 2)\n",
        "\n",
        "peso_ideal(1.8, \"Masculino\")\n"
      ],
      "execution_count": null,
      "outputs": [
        {
          "output_type": "execute_result",
          "data": {
            "text/plain": [
              "72.86"
            ]
          },
          "metadata": {
            "tags": []
          },
          "execution_count": 135
        }
      ]
    },
    {
      "cell_type": "code",
      "metadata": {
        "colab": {
          "base_uri": "https://localhost:8080/"
        },
        "id": "yW3dahpa-mrs",
        "outputId": "23a2b327-7316-4f61-cf45-52d62de8b548"
      },
      "source": [
        "#Exercício 15\n",
        "\n",
        "def fatorial(n):\n",
        "  aux = 1\n",
        "  fatorial = 1\n",
        "  while aux <= n:\n",
        "    fatorial = fatorial * aux\n",
        "    aux = aux + 1\n",
        "  return fatorial\n",
        "\n",
        "fatorial(3)\n"
      ],
      "execution_count": null,
      "outputs": [
        {
          "output_type": "execute_result",
          "data": {
            "text/plain": [
              "6"
            ]
          },
          "metadata": {
            "tags": []
          },
          "execution_count": 189
        }
      ]
    },
    {
      "cell_type": "code",
      "metadata": {
        "colab": {
          "base_uri": "https://localhost:8080/"
        },
        "id": "Gp5jApr0CeId",
        "outputId": "e154fbfc-e4fd-4fb2-903a-143a4c3e9345"
      },
      "source": [
        "#Exercício 16\n",
        "\n",
        "def divisor(a):\n",
        "  soma = 0\n",
        "  novo = 0\n",
        "  x = 0\n",
        "  while x <= a:\n",
        "    soma = soma + novo\n",
        "    x = x + 1\n",
        "    novo = 1 / x\n",
        "  return round(soma, 2)\n",
        "\n",
        "divisor(8)"
      ],
      "execution_count": null,
      "outputs": [
        {
          "output_type": "execute_result",
          "data": {
            "text/plain": [
              "2.72"
            ]
          },
          "metadata": {
            "tags": []
          },
          "execution_count": 208
        }
      ]
    },
    {
      "cell_type": "code",
      "metadata": {
        "colab": {
          "base_uri": "https://localhost:8080/"
        },
        "id": "8ODFAcxLKpRr",
        "outputId": "d75f9032-3201-482e-9090-077a18c6e205"
      },
      "source": [
        "#Exercício 17\n",
        "\n",
        "def vetor(x):\n",
        "  pares = 0\n",
        "  for i in range (len(x)):\n",
        "    if x[ i ] % 2 == 0:\n",
        "      pares += 1\n",
        "  return pares\n",
        "\n",
        "lista = list (range(10))\n",
        "print(lista)\n",
        "print(vetor(lista))\n",
        "\n",
        "\n",
        "\n",
        "\n",
        "\n"
      ],
      "execution_count": null,
      "outputs": [
        {
          "output_type": "stream",
          "text": [
            "[0, 1, 2, 3, 4, 5, 6, 7, 8, 9]\n",
            "5\n"
          ],
          "name": "stdout"
        }
      ]
    },
    {
      "cell_type": "code",
      "metadata": {
        "id": "kMAH-7FnOLby",
        "colab": {
          "base_uri": "https://localhost:8080/"
        },
        "outputId": "85d08629-6ed9-4077-b108-fa51143a847a"
      },
      "source": [
        "#Exercício 18\n",
        "\n",
        "dias = [\"Zero\",\"Um\",\"Dois\",\"Tres\",\"Quatro\",\"Cinco\",\"Seis\",\"Sete\",\"Oito\",\"Nove\", \"Dez\",\"Onze\",\"Doze\",\"Treze\",\"Quatorze\",\n",
        "             \"Quinze\",\"Dezesseis\",\"Dezessete\",\"Dezoito\",\"Dezenove\", \"Vinte\", \"Vinte e um\", \"Vinte e um\", \"Vinte e dois\", \"Vinte e tres\", \"Vinte e quatro\",\n",
        "        \"Vinte e cinco\", \"Vinte e seis\", \"Vinte e sete\", \"Vinte e oito\", \"Vinte e nova\", \"Trinta\"]\n",
        "meses = [\"\", \"Janeiro\", \"Fevereiro\", \"Março\", \"Abril\", \"Maio\", \"Junho\",\"Julho\", \"Agosto\", \"Setembro\", \"Outubro\", \"Novembro\", \"Dezembro\"]\n",
        "\n",
        "\n",
        "def diaExtenso(x):\n",
        "  numero = dias[x]\n",
        "  return numero\n",
        "def mesExtenso(x):\n",
        "  numero = meses[x]\n",
        "  return numero\n",
        "\n",
        "def ano (x):\n",
        "  return x\n",
        "# Coloque o dia, o mes e o ano entre parenteses nas funções indicadas:\n",
        "print(diaExtenso(28), \" de \", mesExtenso(3), \" de \", ano(2002))\n",
        "\n",
        "\n",
        "\n",
        "\n",
        "\n",
        "\n"
      ],
      "execution_count": null,
      "outputs": [
        {
          "output_type": "stream",
          "name": "stdout",
          "text": [
            "Vinte e sete  de  Março  de  2002\n"
          ]
        }
      ]
    },
    {
      "cell_type": "code",
      "metadata": {
        "colab": {
          "base_uri": "https://localhost:8080/",
          "height": 35
        },
        "id": "dO5rpJt1CKdR",
        "outputId": "86b7b57c-30b4-4b33-ee75-fb1d8da76c87"
      },
      "source": [
        "#Exercício 19\n",
        "\n",
        "def function(N):\n",
        "  if N > 0:\n",
        "    return 'P'\n",
        "  if N <= 0:\n",
        "    return 'N'\n",
        "\n",
        "function(0)\n"
      ],
      "execution_count": null,
      "outputs": [
        {
          "output_type": "execute_result",
          "data": {
            "application/vnd.google.colaboratory.intrinsic+json": {
              "type": "string"
            },
            "text/plain": [
              "'N'"
            ]
          },
          "metadata": {
            "tags": []
          },
          "execution_count": 59
        }
      ]
    },
    {
      "cell_type": "code",
      "metadata": {
        "colab": {
          "base_uri": "https://localhost:8080/"
        },
        "id": "FXV5oYjCC-ZD",
        "outputId": "cd4ef041-42ee-4d7f-bedf-7e6b10527d6d"
      },
      "source": [
        "#Exercício 20\n",
        "\n",
        "def med(n1, n2):\n",
        "  media = (n1 + n2) / 2\n",
        "  return media\n",
        "\n",
        "med(6,2)"
      ],
      "execution_count": null,
      "outputs": [
        {
          "output_type": "execute_result",
          "data": {
            "text/plain": [
              "4.0"
            ]
          },
          "metadata": {
            "tags": []
          },
          "execution_count": 60
        }
      ]
    }
  ]
}